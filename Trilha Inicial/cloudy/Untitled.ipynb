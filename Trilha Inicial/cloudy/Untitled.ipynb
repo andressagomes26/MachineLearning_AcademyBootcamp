{
 "cells": [
  {
   "cell_type": "code",
   "execution_count": 1,
   "id": "fab99bb6",
   "metadata": {},
   "outputs": [],
   "source": [
    "from matplotlib import pyplot as plt\n",
    "import numpy as np\n",
    "import cv2\n",
    "from skimage import exposure"
   ]
  },
  {
   "cell_type": "code",
   "execution_count": null,
   "id": "21c0291a",
   "metadata": {},
   "outputs": [],
   "source": [
    "img_bgr= img_redimensionada#cv2.imread('cloudy6.jpg', 1)\n",
    "\n",
    "img_hsv=cv2.cvtColor(img_bgr, cv2.COLOR_BGR2HSV)\n",
    "\n",
    "img_hsv[:, :, 2]=cv2.equalizeHist(img_hsv[:, :, 2])# aplica equalização no canal V\n",
    "\n",
    "saida=cv2.cvtColor(img_hsv, cv2.COLOR_HSV2BGR)\n",
    "concat=cv2.hconcat((img_bgr,saida))\n",
    "\n",
    "cv2.imshow('image', concat) \n",
    "  \n",
    "cv2.waitKey(0) \n",
    "cv2.destroyAllWindows()"
   ]
  },
  {
   "cell_type": "code",
   "execution_count": 6,
   "id": "c30c570e",
   "metadata": {},
   "outputs": [
    {
     "ename": "error",
     "evalue": "OpenCV(4.6.0) D:\\a\\opencv-python\\opencv-python\\opencv\\modules\\imgproc\\src\\smooth.dispatch.cpp:617: error: (-215:Assertion failed) !_src.empty() in function 'cv::GaussianBlur'\n",
     "output_type": "error",
     "traceback": [
      "\u001b[1;31m---------------------------------------------------------------------------\u001b[0m",
      "\u001b[1;31merror\u001b[0m                                     Traceback (most recent call last)",
      "Input \u001b[1;32mIn [6]\u001b[0m, in \u001b[0;36m<cell line: 2>\u001b[1;34m()\u001b[0m\n\u001b[0;32m      1\u001b[0m imgOriginal \u001b[38;5;241m=\u001b[39m cv2\u001b[38;5;241m.\u001b[39mimread(\u001b[38;5;124m'\u001b[39m\u001b[38;5;124mrain58.jpg\u001b[39m\u001b[38;5;124m'\u001b[39m, \u001b[38;5;241m1\u001b[39m)\n\u001b[1;32m----> 2\u001b[0m imgSuavizada \u001b[38;5;241m=\u001b[39m \u001b[43mcv2\u001b[49m\u001b[38;5;241;43m.\u001b[39;49m\u001b[43mGaussianBlur\u001b[49m\u001b[43m(\u001b[49m\u001b[43mimgOriginal\u001b[49m\u001b[43m,\u001b[49m\u001b[43m \u001b[49m\u001b[43m(\u001b[49m\u001b[38;5;241;43m13\u001b[39;49m\u001b[43m,\u001b[49m\u001b[38;5;241;43m13\u001b[39;49m\u001b[43m)\u001b[49m\u001b[43m,\u001b[49m\u001b[43m \u001b[49m\u001b[38;5;241;43m3\u001b[39;49m\u001b[43m)\u001b[49m\n\u001b[0;32m      3\u001b[0m imgDetalhes \u001b[38;5;241m=\u001b[39m \u001b[38;5;241m3\u001b[39m \u001b[38;5;241m*\u001b[39m cv2\u001b[38;5;241m.\u001b[39msubtract(imgOriginal, imgSuavizada)\n\u001b[0;32m      4\u001b[0m imgRealcada \u001b[38;5;241m=\u001b[39m cv2\u001b[38;5;241m.\u001b[39madd(imgOriginal, imgDetalhes)\n",
      "\u001b[1;31merror\u001b[0m: OpenCV(4.6.0) D:\\a\\opencv-python\\opencv-python\\opencv\\modules\\imgproc\\src\\smooth.dispatch.cpp:617: error: (-215:Assertion failed) !_src.empty() in function 'cv::GaussianBlur'\n"
     ]
    }
   ],
   "source": [
    "imgOriginal = cv2.imread('rain58.jpg', 1)\n",
    "imgSuavizada = cv2.GaussianBlur(imgOriginal, (13,13), 3)\n",
    "imgDetalhes = 3 * cv2.subtract(imgOriginal, imgSuavizada)\n",
    "imgRealcada = cv2.add(imgOriginal, imgDetalhes)\n",
    "\n",
    "size = (256, 256)\n",
    "imgOriginal = cv2.resize(imgOriginal, size, interpolation = cv2.INTER_AREA)\n",
    "imgSuavizada = cv2.resize(imgSuavizada, size, interpolation = cv2.INTER_AREA)\n",
    "imgDetalhes = cv2.resize(imgDetalhes, size, interpolation = cv2.INTER_AREA)\n",
    "imgRealcada = cv2.resize(imgRealcada, size, interpolation = cv2.INTER_AREA)\n",
    "\n",
    "hsv = cv2.cvtColor(imgRealcada, cv2.COLOR_BGR2HSV)\n",
    "canais =  cv2.split(hsv)\n",
    "hsv = cv2.equalizeHist(canais[2],canais[2])\n",
    "hsv = cv2.merge(canais, hsv)\n",
    "saida = cv2.cvtColor(hsv, cv2.COLOR_HSV2BGR, imgRealcada)\n",
    " \n",
    "cv2.imshow(\"saida\", imgOriginal)\n",
    "cv2.imshow(\"rain58Realce+Equaliz\", saida)\n",
    "\n",
    "cv2.waitKey(0)\n",
    "cv2.destroyAllWindows()"
   ]
  },
  {
   "cell_type": "code",
   "execution_count": null,
   "id": "84bdda16",
   "metadata": {},
   "outputs": [],
   "source": []
  }
 ],
 "metadata": {
  "kernelspec": {
   "display_name": "Python 3 (ipykernel)",
   "language": "python",
   "name": "python3"
  },
  "language_info": {
   "codemirror_mode": {
    "name": "ipython",
    "version": 3
   },
   "file_extension": ".py",
   "mimetype": "text/x-python",
   "name": "python",
   "nbconvert_exporter": "python",
   "pygments_lexer": "ipython3",
   "version": "3.9.12"
  }
 },
 "nbformat": 4,
 "nbformat_minor": 5
}
