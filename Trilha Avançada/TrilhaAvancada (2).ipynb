{
 "cells": [
  {
   "cell_type": "code",
   "execution_count": 519,
   "id": "89e5a7fc",
   "metadata": {},
   "outputs": [
    {
     "name": "stdout",
     "output_type": "stream",
     "text": [
      "Defaulting to user installation because normal site-packages is not writeable\n",
      "Requirement already satisfied: imutils in /home/gilgleison/.local/lib/python3.10/site-packages (0.5.4)\n"
     ]
    }
   ],
   "source": [
    "!pip install imutils"
   ]
  },
  {
   "cell_type": "markdown",
   "id": "5bfc36c4",
   "metadata": {},
   "source": [
    "## Classificação de imagens de tempo\n",
    "\n",
    "**Classificação de Imagens**\n",
    "\n",
    "> Classificação de imagens de tempo utilizando técnicas clássicas de Processamento Digital de Imagens e treinar classificadores para predição dos atributos."
   ]
  },
  {
   "cell_type": "code",
   "execution_count": 520,
   "id": "b1a71d94",
   "metadata": {},
   "outputs": [],
   "source": [
    "### Módulos necessários\n",
    "from sklearn.model_selection import KFold\n",
    "from sklearn.model_selection import GridSearchCV\n",
    "from sklearn.pipeline import Pipeline\n",
    "import os\n",
    "import cv2\n",
    "import matplotlib.pyplot as plt\n",
    "import numpy as np\n",
    "import pandas as pd\n",
    "import seaborn as sns\n",
    "import imutils\n",
    "from random import shuffle\n",
    "from sklearn.model_selection import train_test_split\n",
    "from sklearn import metrics,svm\n",
    "from sklearn.metrics import classification_report\n",
    "from sklearn.ensemble import RandomForestClassifier\n",
    "from sklearn.neural_network import MLPClassifier\n",
    "from sklearn.neighbors import KNeighborsClassifier\n",
    "from sklearn.linear_model import SGDClassifier\n",
    "from sklearn.naive_bayes import GaussianNB\n",
    "from sklearn import tree\n",
    "from skimage.measure import regionprops\n",
    "from skimage.filters import threshold_otsu\n",
    "from sklearn.preprocessing import MaxAbsScaler\n",
    "from tensorflow import keras"
   ]
  },
  {
   "cell_type": "markdown",
   "id": "63e105c9",
   "metadata": {},
   "source": [
    "- **Preparando o dataset**\n",
    "\n",
    "> Neste primeiro momento há necessidade de observar as imagens do dataset e organizá-las em uma estrutura de dados adequada para que seus atributos possam ser extraídos. há então a necessidade de carregar o conjunto de imagens via código."
   ]
  },
  {
   "cell_type": "code",
   "execution_count": 521,
   "id": "b43b3095",
   "metadata": {},
   "outputs": [],
   "source": [
    "def load_data(datadir, classes, img_size=100):\n",
    "    training_data = []\n",
    "    label = []\n",
    "    for classe in range(len(classes)):\n",
    "        path = os.path.join(datadir, classes[classe])\n",
    "        shufled_list  = list(os.listdir(path))\n",
    "        #shuffle(shufled_list)\n",
    "        for img in shufled_list:\n",
    "            img_array = cv2.imread(os.path.join(path, img))\n",
    "            if img_array is None:\n",
    "                continue\n",
    "            img_array = cv2.resize(img_array, (img_size, img_size))\n",
    "            #img_array = cv2.resize(img_array, (img_size, img_size)).flatten()\n",
    "\n",
    "            training_data.append(img_array)\n",
    "            label.append(classe)\n",
    "\n",
    "    return training_data, label"
   ]
  },
  {
   "cell_type": "code",
   "execution_count": 1,
   "id": "cd87d9ed",
   "metadata": {},
   "outputs": [
    {
     "ename": "NameError",
     "evalue": "name 'load_data' is not defined",
     "output_type": "error",
     "traceback": [
      "\u001b[1;31m---------------------------------------------------------------------------\u001b[0m",
      "\u001b[1;31mNameError\u001b[0m                                 Traceback (most recent call last)",
      "Input \u001b[1;32mIn [1]\u001b[0m, in \u001b[0;36m<cell line: 1>\u001b[1;34m()\u001b[0m\n\u001b[1;32m----> 1\u001b[0m data, label \u001b[38;5;241m=\u001b[39m \u001b[43mload_data\u001b[49m(\u001b[38;5;124m'\u001b[39m\u001b[38;5;124m../Trilha Intermediária\u001b[39m\u001b[38;5;124m\\\u001b[39m\u001b[38;5;124mdataset\u001b[39m\u001b[38;5;130;01m\\t\u001b[39;00m\u001b[38;5;124mempo\u001b[39m\u001b[38;5;124m'\u001b[39m, [\u001b[38;5;124m'\u001b[39m\u001b[38;5;124mcloudy\u001b[39m\u001b[38;5;124m'\u001b[39m,\u001b[38;5;124m'\u001b[39m\u001b[38;5;124mrain\u001b[39m\u001b[38;5;124m'\u001b[39m,\u001b[38;5;124m'\u001b[39m\u001b[38;5;124mshine\u001b[39m\u001b[38;5;124m'\u001b[39m,\u001b[38;5;124m'\u001b[39m\u001b[38;5;124msunrise\u001b[39m\u001b[38;5;124m'\u001b[39m])\n",
      "\u001b[1;31mNameError\u001b[0m: name 'load_data' is not defined"
     ]
    }
   ],
   "source": [
    "data, label = load_data('imagens/', ['cloudy','rain','shine','sunrise'])"
   ]
  },
  {
   "cell_type": "code",
   "execution_count": 523,
   "id": "d8278f4a",
   "metadata": {},
   "outputs": [
    {
     "data": {
      "text/plain": [
       "1123"
      ]
     },
     "execution_count": 523,
     "metadata": {},
     "output_type": "execute_result"
    }
   ],
   "source": [
    "len(data)"
   ]
  },
  {
   "cell_type": "markdown",
   "id": "30f77515",
   "metadata": {},
   "source": [
    "- O código acima realiza a implementação de uma função que recebe 3 argumentos: o diretório que contem as pastas das imagens, uma lista de string que contém o nome das classes que devem ser reconhecidas e um parâmetro default que é o  tamanho da imagem que será utilizado em todo o processo. \n",
    "\n",
    "\n",
    "- São definidas duas listas vazias training_data e label. Em ***training_data*** serão armazenadas as imagens e em ***label*** serão definidos números que representam cada classe. Deste modo, é possível saber a classe da imagem que estiver na posição 5 da lista training_data observando o número contido da quinta posição da lista label.\n",
    "\n",
    "- Um loop for é realizado para iterar sobre as possíveis classes. Assim a variável classe, definida no loop, poderá assumir valores variando de  0 até 3, em que 0 representa classe **'cloudy'** e 3 representa a classe **'sunrise'**. Na variável path é armazenada a string que contem o caminho para pasta de imagens da classe específica, conforme iteração do loop for e na estrutura shufled_list são contidas strings que são os caminhos de cada imagem da classe, já com um primeiro embaralhamento."
   ]
  },
  {
   "cell_type": "markdown",
   "id": "67a7ad9d",
   "metadata": {},
   "source": [
    "### Pré-Processamento"
   ]
  },
  {
   "cell_type": "code",
   "execution_count": 524,
   "id": "6fc9f9f0",
   "metadata": {},
   "outputs": [],
   "source": [
    "### Pré-Processamento\n",
    "\n",
    "#### Blur\n",
    "\n",
    "##### Filtro de média\n",
    "blur_data = []\n",
    "for i in range(len(data)):\n",
    "    blur_img = cv2.blur(data[i], ksize=(3,3))\n",
    "    blur_data.append(blur_img)\n",
    "\n",
    "##### GaussianBlur\n",
    "gaussian_data = []\n",
    "for i in range(len(data)):\n",
    "    gaussian_img = cv2.GaussianBlur(src=data[i], ksize=(15,15),sigmaX=0)\n",
    "    gaussian_data.append(gaussian_img)\n",
    "\n",
    "#### Equalização do histograma\n",
    "\n",
    "##### HSV\n",
    "Eq_data = []\n",
    "for i in range(len(data)):\n",
    "    img = data[i]\n",
    "    hsv = cv2.cvtColor(img, cv2.COLOR_BGR2HSV)\n",
    "    canais =  cv2.split(hsv)\n",
    "    cv2.equalizeHist(canais[2],canais[2])\n",
    "    cv2.merge(canais, hsv)\n",
    "    Eq_data.append(cv2.cvtColor(hsv, cv2.COLOR_HSV2BGR))\n",
    "\n",
    "\n",
    "#### Filtro\tMáscara de Desaguçamento\n",
    "\n",
    "# Filtro máscara de desaguçamento, ou\tfiltro\tde realce\n",
    "realce_data = []\n",
    "for i in range(len(data)):\n",
    "    imgOriginal = data[i]\n",
    "    imgSuavizada = cv2.GaussianBlur(imgOriginal, (13,13), 3)\n",
    "    imgDetalhes = 3 * cv2.subtract(imgOriginal, imgSuavizada)\n",
    "    imgRealcada = cv2.add(imgOriginal, imgDetalhes)\n",
    "    realce_data.append(imgRealcada)"
   ]
  },
  {
   "cell_type": "markdown",
   "id": "51003f5f",
   "metadata": {},
   "source": [
    "### Normalização dos dados"
   ]
  },
  {
   "cell_type": "code",
   "execution_count": 525,
   "id": "106645b2",
   "metadata": {},
   "outputs": [],
   "source": [
    "data_norm = [i/255 for i in data]\n",
    "HSV_norm = [i/255 for i in Eq_data]\n",
    "realce_norm = [i/255 for i in realce_data]"
   ]
  },
  {
   "cell_type": "markdown",
   "id": "39103c56",
   "metadata": {},
   "source": [
    "### Divisão dos dados\n"
   ]
  },
  {
   "cell_type": "code",
   "execution_count": 526,
   "id": "ba1ab6d4",
   "metadata": {},
   "outputs": [],
   "source": [
    "X_train, X_test, y_train, y_test = train_test_split(data_norm, label, test_size=0.3, random_state=15, stratify= label)"
   ]
  },
  {
   "cell_type": "markdown",
   "id": "f0185e67",
   "metadata": {},
   "source": [
    "### Data Augumentation"
   ]
  },
  {
   "cell_type": "code",
   "execution_count": 527,
   "id": "6a5da808",
   "metadata": {},
   "outputs": [],
   "source": [
    "#Função retirada do trailhead\n",
    "datagen = keras.preprocessing.image.ImageDataGenerator(\n",
    "            zoom_range = 0.1, # Aleatory zoom\n",
    "            rotation_range= 15, \n",
    "            width_shift_range=0.1,  # horizontal shift\n",
    "            height_shift_range=0.1,  # vertical shift\n",
    "            horizontal_flip=True,  \n",
    "            vertical_flip=True)\n",
    "datagen.fit(X_train)"
   ]
  },
  {
   "cell_type": "markdown",
   "id": "8c2fea06",
   "metadata": {},
   "source": [
    "### Alteração do formato das labels"
   ]
  },
  {
   "cell_type": "code",
   "execution_count": 528,
   "id": "17a38395",
   "metadata": {},
   "outputs": [],
   "source": [
    "categorical_y_train = keras.utils.to_categorical(y_train)\n",
    "categorical_y_test = keras.utils.to_categorical(y_test)"
   ]
  },
  {
   "cell_type": "markdown",
   "id": "87cb3658",
   "metadata": {},
   "source": [
    "### Definição da rede neural"
   ]
  },
  {
   "cell_type": "code",
   "execution_count": 529,
   "id": "e200c112",
   "metadata": {},
   "outputs": [],
   "source": [
    "def get_CNN(X, y, epochs):\n",
    "    classifier = keras.models.Sequential()\n",
    "\n",
    "    classifier.add(keras.layers.Conv2D(64, (5, 5), input_shape=(100, 100, 3), activation='relu'))\n",
    "    classifier.add(keras.layers.MaxPool2D(pool_size=(3, 3)))\n",
    "    classifier.add(keras.layers.BatchNormalization())\n",
    "    \n",
    "    classifier.add(keras.layers.Conv2D(64, (5, 5),activation='relu'))\n",
    "    classifier.add(keras.layers.MaxPool2D(pool_size=(3, 3)))\n",
    "    classifier.add(keras.layers.BatchNormalization())\n",
    "    \n",
    "    classifier.add(keras.layers.Conv2D(64, (5, 5),activation='relu'))\n",
    "    classifier.add(keras.layers.MaxPool2D(pool_size=(3, 3)))\n",
    "    classifier.add(keras.layers.BatchNormalization())\n",
    "    classifier.add(keras.layers.Flatten())\n",
    "\n",
    "    classifier.add(keras.layers.Dense(units=256, activation='relu'))\n",
    "    classifier.add(keras.layers.Dropout(0.1))\n",
    "    classifier.add(keras.layers.Dense(units=256, activation='relu'))\n",
    "    classifier.add(keras.layers.Dropout(0.1))\n",
    "    classifier.add(keras.layers.Dense(units=256, activation='relu'))\n",
    "    classifier.add(keras.layers.Dropout(0.1))\n",
    "\n",
    "    classifier.add(keras.layers.Dense(units=4, activation='softmax'))\n",
    "    \n",
    "    classifier.compile(loss='categorical_crossentropy', optimizer='Nadam', metrics=['accuracy'])\n",
    "    classifier.fit(X, y, batch_size=10, epochs=epochs)\n",
    "    \n",
    "    return classifier"
   ]
  },
  {
   "cell_type": "markdown",
   "id": "df3f1e97",
   "metadata": {},
   "source": [
    "### Resultados"
   ]
  },
  {
   "cell_type": "code",
   "execution_count": 530,
   "id": "e69fe5ce",
   "metadata": {},
   "outputs": [],
   "source": [
    "def get_confusion_matrix(y_true, y_pred, modelo):\n",
    "    labels = ['cloudy','rain','shine','sunrise']\n",
    "    cm = metrics.confusion_matrix(y_true, y_pred)\n",
    "    sns.heatmap(cm, annot=True, fmt='g', cmap='Blues').set(title=modelo, ylabel='True Label', xlabel='Predicted Label')"
   ]
  },
  {
   "cell_type": "code",
   "execution_count": 531,
   "id": "cb4ed5ef",
   "metadata": {
    "scrolled": true
   },
   "outputs": [
    {
     "name": "stdout",
     "output_type": "stream",
     "text": [
      "Epoch 1/200\n",
      "79/79 [==============================] - 7s 73ms/step - loss: 0.7654 - accuracy: 0.7099\n",
      "Epoch 2/200\n",
      "79/79 [==============================] - 6s 72ms/step - loss: 0.6099 - accuracy: 0.7863\n",
      "Epoch 3/200\n",
      "79/79 [==============================] - 6s 71ms/step - loss: 0.5395 - accuracy: 0.8104\n",
      "Epoch 4/200\n",
      "79/79 [==============================] - 6s 71ms/step - loss: 0.4454 - accuracy: 0.8511\n",
      "Epoch 5/200\n",
      "79/79 [==============================] - 6s 71ms/step - loss: 0.3836 - accuracy: 0.8626\n",
      "Epoch 6/200\n",
      "79/79 [==============================] - 6s 71ms/step - loss: 0.3944 - accuracy: 0.8651\n",
      "Epoch 7/200\n",
      "79/79 [==============================] - 6s 70ms/step - loss: 0.3923 - accuracy: 0.8664\n",
      "Epoch 8/200\n",
      "79/79 [==============================] - 6s 71ms/step - loss: 0.3260 - accuracy: 0.8842\n",
      "Epoch 9/200\n",
      "79/79 [==============================] - 6s 71ms/step - loss: 0.3271 - accuracy: 0.8791\n",
      "Epoch 10/200\n",
      "79/79 [==============================] - 5s 67ms/step - loss: 0.3484 - accuracy: 0.8715\n",
      "Epoch 11/200\n",
      "79/79 [==============================] - 5s 59ms/step - loss: 0.2789 - accuracy: 0.8906\n",
      "Epoch 12/200\n",
      "79/79 [==============================] - 5s 59ms/step - loss: 0.2188 - accuracy: 0.9288\n",
      "Epoch 13/200\n",
      "79/79 [==============================] - 3s 44ms/step - loss: 0.3109 - accuracy: 0.8855\n",
      "Epoch 14/200\n",
      "79/79 [==============================] - 3s 43ms/step - loss: 0.2482 - accuracy: 0.9059\n",
      "Epoch 15/200\n",
      "79/79 [==============================] - 5s 60ms/step - loss: 0.2584 - accuracy: 0.9135\n",
      "Epoch 16/200\n",
      "79/79 [==============================] - 5s 65ms/step - loss: 0.2305 - accuracy: 0.9237\n",
      "Epoch 17/200\n",
      "79/79 [==============================] - 4s 52ms/step - loss: 0.2078 - accuracy: 0.9160\n",
      "Epoch 18/200\n",
      "79/79 [==============================] - 3s 40ms/step - loss: 0.2574 - accuracy: 0.9109\n",
      "Epoch 19/200\n",
      "79/79 [==============================] - 3s 40ms/step - loss: 0.2184 - accuracy: 0.9109\n",
      "Epoch 20/200\n",
      "79/79 [==============================] - 3s 40ms/step - loss: 0.2175 - accuracy: 0.9224\n",
      "Epoch 21/200\n",
      "79/79 [==============================] - 3s 40ms/step - loss: 0.1667 - accuracy: 0.9517\n",
      "Epoch 22/200\n",
      "79/79 [==============================] - 3s 40ms/step - loss: 0.1228 - accuracy: 0.9529\n",
      "Epoch 23/200\n",
      "79/79 [==============================] - 3s 40ms/step - loss: 0.1821 - accuracy: 0.9440\n",
      "Epoch 24/200\n",
      "79/79 [==============================] - 3s 40ms/step - loss: 0.1697 - accuracy: 0.9377\n",
      "Epoch 25/200\n",
      "79/79 [==============================] - 3s 40ms/step - loss: 0.1614 - accuracy: 0.9504\n",
      "Epoch 26/200\n",
      "79/79 [==============================] - 3s 40ms/step - loss: 0.1403 - accuracy: 0.9517\n",
      "Epoch 27/200\n",
      "79/79 [==============================] - 3s 40ms/step - loss: 0.1498 - accuracy: 0.9453\n",
      "Epoch 28/200\n",
      "79/79 [==============================] - 3s 40ms/step - loss: 0.1796 - accuracy: 0.9453\n",
      "Epoch 29/200\n",
      "79/79 [==============================] - 3s 40ms/step - loss: 0.1245 - accuracy: 0.9580\n",
      "Epoch 30/200\n",
      "79/79 [==============================] - 3s 40ms/step - loss: 0.1193 - accuracy: 0.9542\n",
      "Epoch 31/200\n",
      "79/79 [==============================] - 3s 40ms/step - loss: 0.1350 - accuracy: 0.9580\n",
      "Epoch 32/200\n",
      "79/79 [==============================] - 3s 41ms/step - loss: 0.1158 - accuracy: 0.9593\n",
      "Epoch 33/200\n",
      "79/79 [==============================] - 3s 41ms/step - loss: 0.1281 - accuracy: 0.9567\n",
      "Epoch 34/200\n",
      "79/79 [==============================] - 5s 63ms/step - loss: 0.1119 - accuracy: 0.9682\n",
      "Epoch 35/200\n",
      "79/79 [==============================] - 6s 74ms/step - loss: 0.1159 - accuracy: 0.9593\n",
      "Epoch 36/200\n",
      "79/79 [==============================] - 5s 59ms/step - loss: 0.1506 - accuracy: 0.9466\n",
      "Epoch 37/200\n",
      "79/79 [==============================] - 5s 69ms/step - loss: 0.1406 - accuracy: 0.9567\n",
      "Epoch 38/200\n",
      "79/79 [==============================] - 6s 72ms/step - loss: 0.1150 - accuracy: 0.9631\n",
      "Epoch 39/200\n",
      "79/79 [==============================] - 6s 71ms/step - loss: 0.1053 - accuracy: 0.9580\n",
      "Epoch 40/200\n",
      "79/79 [==============================] - 6s 72ms/step - loss: 0.0742 - accuracy: 0.9707\n",
      "Epoch 41/200\n",
      "79/79 [==============================] - 6s 71ms/step - loss: 0.1208 - accuracy: 0.9567\n",
      "Epoch 42/200\n",
      "79/79 [==============================] - 6s 73ms/step - loss: 0.0975 - accuracy: 0.9656\n",
      "Epoch 43/200\n",
      "79/79 [==============================] - 6s 72ms/step - loss: 0.1185 - accuracy: 0.9580\n",
      "Epoch 44/200\n",
      "79/79 [==============================] - 6s 72ms/step - loss: 0.0757 - accuracy: 0.9682\n",
      "Epoch 45/200\n",
      "79/79 [==============================] - 6s 72ms/step - loss: 0.0535 - accuracy: 0.9822\n",
      "Epoch 46/200\n",
      "79/79 [==============================] - 5s 69ms/step - loss: 0.1345 - accuracy: 0.9720\n",
      "Epoch 47/200\n",
      "79/79 [==============================] - 5s 59ms/step - loss: 0.1482 - accuracy: 0.9478\n",
      "Epoch 48/200\n",
      "79/79 [==============================] - 5s 65ms/step - loss: 0.0886 - accuracy: 0.9631\n",
      "Epoch 49/200\n",
      "79/79 [==============================] - 6s 75ms/step - loss: 0.0870 - accuracy: 0.9695\n",
      "Epoch 50/200\n",
      "79/79 [==============================] - 5s 67ms/step - loss: 0.0951 - accuracy: 0.9720\n",
      "Epoch 51/200\n",
      "79/79 [==============================] - 5s 60ms/step - loss: 0.1274 - accuracy: 0.9606\n",
      "Epoch 52/200\n",
      "79/79 [==============================] - 4s 46ms/step - loss: 0.0731 - accuracy: 0.9809\n",
      "Epoch 53/200\n",
      "79/79 [==============================] - 3s 43ms/step - loss: 0.0738 - accuracy: 0.9746\n",
      "Epoch 54/200\n",
      "79/79 [==============================] - 5s 58ms/step - loss: 0.1405 - accuracy: 0.9491\n",
      "Epoch 55/200\n",
      "79/79 [==============================] - 5s 62ms/step - loss: 0.0794 - accuracy: 0.9720\n",
      "Epoch 56/200\n",
      "79/79 [==============================] - 6s 70ms/step - loss: 0.1157 - accuracy: 0.9580\n",
      "Epoch 57/200\n",
      "79/79 [==============================] - 5s 63ms/step - loss: 0.0872 - accuracy: 0.9644\n",
      "Epoch 58/200\n",
      "79/79 [==============================] - 5s 66ms/step - loss: 0.0865 - accuracy: 0.9669\n",
      "Epoch 59/200\n",
      "79/79 [==============================] - 6s 75ms/step - loss: 0.0599 - accuracy: 0.9784\n",
      "Epoch 60/200\n",
      "79/79 [==============================] - 5s 65ms/step - loss: 0.0992 - accuracy: 0.9644\n",
      "Epoch 61/200\n",
      "79/79 [==============================] - 5s 65ms/step - loss: 0.0735 - accuracy: 0.9758\n",
      "Epoch 62/200\n",
      "79/79 [==============================] - 5s 66ms/step - loss: 0.0936 - accuracy: 0.9720\n",
      "Epoch 63/200\n",
      "79/79 [==============================] - 6s 70ms/step - loss: 0.0390 - accuracy: 0.9835\n",
      "Epoch 64/200\n",
      "79/79 [==============================] - 6s 73ms/step - loss: 0.0960 - accuracy: 0.9644\n",
      "Epoch 65/200\n",
      "79/79 [==============================] - 6s 72ms/step - loss: 0.0724 - accuracy: 0.9733\n",
      "Epoch 66/200\n",
      "79/79 [==============================] - 6s 72ms/step - loss: 0.0818 - accuracy: 0.9758\n",
      "Epoch 67/200\n",
      "79/79 [==============================] - 6s 70ms/step - loss: 0.0518 - accuracy: 0.9860\n",
      "Epoch 68/200\n",
      "79/79 [==============================] - 5s 66ms/step - loss: 0.0826 - accuracy: 0.9707\n",
      "Epoch 69/200\n",
      "79/79 [==============================] - 6s 74ms/step - loss: 0.0822 - accuracy: 0.9784\n",
      "Epoch 70/200\n",
      "79/79 [==============================] - 4s 55ms/step - loss: 0.0932 - accuracy: 0.9695\n",
      "Epoch 71/200\n",
      "79/79 [==============================] - 3s 43ms/step - loss: 0.0800 - accuracy: 0.9746\n",
      "Epoch 72/200\n",
      "79/79 [==============================] - 3s 43ms/step - loss: 0.1021 - accuracy: 0.9733\n",
      "Epoch 73/200\n",
      "79/79 [==============================] - 3s 41ms/step - loss: 0.1457 - accuracy: 0.9529\n",
      "Epoch 74/200\n",
      "79/79 [==============================] - 3s 40ms/step - loss: 0.0878 - accuracy: 0.9746\n",
      "Epoch 75/200\n",
      "79/79 [==============================] - 3s 42ms/step - loss: 0.1277 - accuracy: 0.9555\n",
      "Epoch 76/200\n",
      "79/79 [==============================] - 3s 40ms/step - loss: 0.0336 - accuracy: 0.9898\n",
      "Epoch 77/200\n",
      "79/79 [==============================] - 3s 41ms/step - loss: 0.0826 - accuracy: 0.9682\n",
      "Epoch 78/200\n",
      "79/79 [==============================] - 3s 41ms/step - loss: 0.0632 - accuracy: 0.9784\n",
      "Epoch 79/200\n",
      "79/79 [==============================] - 3s 42ms/step - loss: 0.0680 - accuracy: 0.9784\n",
      "Epoch 80/200\n",
      "79/79 [==============================] - 3s 41ms/step - loss: 0.0337 - accuracy: 0.9885\n",
      "Epoch 81/200\n",
      "79/79 [==============================] - 3s 41ms/step - loss: 0.0607 - accuracy: 0.9835\n",
      "Epoch 82/200\n",
      "79/79 [==============================] - 3s 42ms/step - loss: 0.1020 - accuracy: 0.9669\n",
      "Epoch 83/200\n",
      "79/79 [==============================] - 3s 42ms/step - loss: 0.0713 - accuracy: 0.9784\n",
      "Epoch 84/200\n",
      "79/79 [==============================] - 3s 42ms/step - loss: 0.0499 - accuracy: 0.9847\n",
      "Epoch 85/200\n",
      "79/79 [==============================] - 3s 41ms/step - loss: 0.0547 - accuracy: 0.9733\n",
      "Epoch 86/200\n",
      "79/79 [==============================] - 3s 41ms/step - loss: 0.0162 - accuracy: 0.9962\n",
      "Epoch 87/200\n",
      "79/79 [==============================] - 3s 41ms/step - loss: 0.0312 - accuracy: 0.9885\n",
      "Epoch 88/200\n",
      "79/79 [==============================] - 3s 40ms/step - loss: 0.0631 - accuracy: 0.9847\n",
      "Epoch 89/200\n",
      "79/79 [==============================] - 3s 41ms/step - loss: 0.0976 - accuracy: 0.9669\n",
      "Epoch 90/200\n",
      "79/79 [==============================] - 3s 40ms/step - loss: 0.0260 - accuracy: 0.9924\n",
      "Epoch 91/200\n",
      "79/79 [==============================] - 3s 44ms/step - loss: 0.0315 - accuracy: 0.9873\n",
      "Epoch 92/200\n",
      "79/79 [==============================] - 4s 48ms/step - loss: 0.0722 - accuracy: 0.9784\n",
      "Epoch 93/200\n",
      "79/79 [==============================] - 4s 47ms/step - loss: 0.0646 - accuracy: 0.9847\n",
      "Epoch 94/200\n",
      "79/79 [==============================] - 4s 48ms/step - loss: 0.1167 - accuracy: 0.9644\n",
      "Epoch 95/200\n",
      "79/79 [==============================] - 4s 47ms/step - loss: 0.0472 - accuracy: 0.9873\n",
      "Epoch 96/200\n",
      "79/79 [==============================] - 4s 47ms/step - loss: 0.0470 - accuracy: 0.9835\n",
      "Epoch 97/200\n",
      "79/79 [==============================] - 4s 47ms/step - loss: 0.0469 - accuracy: 0.9847\n",
      "Epoch 98/200\n",
      "79/79 [==============================] - 4s 47ms/step - loss: 0.0366 - accuracy: 0.9860\n",
      "Epoch 99/200\n",
      "79/79 [==============================] - 4s 48ms/step - loss: 0.0475 - accuracy: 0.9885\n",
      "Epoch 100/200\n",
      "79/79 [==============================] - 4s 47ms/step - loss: 0.0743 - accuracy: 0.9758\n",
      "Epoch 101/200\n",
      "79/79 [==============================] - 4s 47ms/step - loss: 0.0567 - accuracy: 0.9860\n",
      "Epoch 102/200\n",
      "79/79 [==============================] - 4s 47ms/step - loss: 0.0516 - accuracy: 0.9847\n",
      "Epoch 103/200\n",
      "79/79 [==============================] - 4s 47ms/step - loss: 0.0242 - accuracy: 0.9911\n",
      "Epoch 104/200\n",
      "79/79 [==============================] - 4s 46ms/step - loss: 0.0117 - accuracy: 0.9936\n",
      "Epoch 105/200\n",
      "79/79 [==============================] - 4s 47ms/step - loss: 0.0627 - accuracy: 0.9784\n",
      "Epoch 106/200\n",
      "79/79 [==============================] - 4s 49ms/step - loss: 0.1036 - accuracy: 0.9746\n",
      "Epoch 107/200\n",
      "79/79 [==============================] - 4s 48ms/step - loss: 0.0323 - accuracy: 0.9898\n",
      "Epoch 108/200\n",
      "79/79 [==============================] - 4s 48ms/step - loss: 0.0130 - accuracy: 0.9962\n",
      "Epoch 109/200\n",
      "79/79 [==============================] - 4s 48ms/step - loss: 0.0768 - accuracy: 0.9733\n",
      "Epoch 110/200\n",
      "79/79 [==============================] - 4s 46ms/step - loss: 0.0875 - accuracy: 0.9720\n",
      "Epoch 111/200\n",
      "79/79 [==============================] - 4s 49ms/step - loss: 0.1281 - accuracy: 0.9618\n",
      "Epoch 112/200\n",
      "79/79 [==============================] - 4s 47ms/step - loss: 0.0379 - accuracy: 0.9898\n",
      "Epoch 113/200\n",
      "79/79 [==============================] - 4s 47ms/step - loss: 0.0431 - accuracy: 0.9885\n",
      "Epoch 114/200\n",
      "79/79 [==============================] - 4s 47ms/step - loss: 0.0394 - accuracy: 0.9911\n",
      "Epoch 115/200\n",
      "79/79 [==============================] - 4s 47ms/step - loss: 0.0295 - accuracy: 0.9885\n",
      "Epoch 116/200\n",
      "79/79 [==============================] - 4s 47ms/step - loss: 0.0639 - accuracy: 0.9847\n",
      "Epoch 117/200\n",
      "79/79 [==============================] - 4s 47ms/step - loss: 0.0233 - accuracy: 0.9924\n",
      "Epoch 118/200\n",
      "79/79 [==============================] - 4s 47ms/step - loss: 0.0820 - accuracy: 0.9809\n",
      "Epoch 119/200\n",
      "79/79 [==============================] - 4s 46ms/step - loss: 0.0429 - accuracy: 0.9885\n",
      "Epoch 120/200\n",
      "79/79 [==============================] - 4s 46ms/step - loss: 0.0497 - accuracy: 0.9784\n",
      "Epoch 121/200\n",
      "79/79 [==============================] - 4s 46ms/step - loss: 0.0882 - accuracy: 0.9720\n",
      "Epoch 122/200\n",
      "79/79 [==============================] - 4s 46ms/step - loss: 0.0469 - accuracy: 0.9885\n",
      "Epoch 123/200\n",
      "79/79 [==============================] - 4s 46ms/step - loss: 0.0365 - accuracy: 0.9873\n",
      "Epoch 124/200\n",
      "79/79 [==============================] - 4s 47ms/step - loss: 0.0653 - accuracy: 0.9835\n",
      "Epoch 125/200\n",
      "79/79 [==============================] - 4s 47ms/step - loss: 0.0326 - accuracy: 0.9885\n",
      "Epoch 126/200\n",
      "79/79 [==============================] - 4s 47ms/step - loss: 0.0464 - accuracy: 0.9885\n",
      "Epoch 127/200\n",
      "79/79 [==============================] - 4s 47ms/step - loss: 0.0674 - accuracy: 0.9784\n",
      "Epoch 128/200\n",
      "79/79 [==============================] - 4s 47ms/step - loss: 0.0715 - accuracy: 0.9822\n",
      "Epoch 129/200\n",
      "79/79 [==============================] - 4s 47ms/step - loss: 0.0566 - accuracy: 0.9835\n",
      "Epoch 130/200\n",
      "79/79 [==============================] - 4s 46ms/step - loss: 0.0239 - accuracy: 0.9962\n",
      "Epoch 131/200\n",
      "79/79 [==============================] - 4s 48ms/step - loss: 0.0897 - accuracy: 0.9758\n",
      "Epoch 132/200\n",
      "79/79 [==============================] - 3s 44ms/step - loss: 0.0921 - accuracy: 0.9720\n",
      "Epoch 133/200\n",
      "79/79 [==============================] - 3s 44ms/step - loss: 0.0359 - accuracy: 0.9885\n",
      "Epoch 134/200\n",
      "79/79 [==============================] - 4s 45ms/step - loss: 0.0397 - accuracy: 0.9885\n",
      "Epoch 135/200\n",
      "79/79 [==============================] - 4s 49ms/step - loss: 0.0875 - accuracy: 0.9720\n",
      "Epoch 136/200\n",
      "79/79 [==============================] - 4s 48ms/step - loss: 0.0331 - accuracy: 0.9885\n",
      "Epoch 137/200\n",
      "79/79 [==============================] - 4s 47ms/step - loss: 0.0444 - accuracy: 0.9885\n",
      "Epoch 138/200\n",
      "79/79 [==============================] - 4s 47ms/step - loss: 0.0444 - accuracy: 0.9847\n",
      "Epoch 139/200\n",
      "79/79 [==============================] - 4s 46ms/step - loss: 0.0621 - accuracy: 0.9733\n",
      "Epoch 140/200\n",
      "79/79 [==============================] - 4s 47ms/step - loss: 0.0285 - accuracy: 0.9911\n",
      "Epoch 141/200\n",
      "79/79 [==============================] - 4s 47ms/step - loss: 0.0253 - accuracy: 0.9949\n",
      "Epoch 142/200\n",
      "79/79 [==============================] - 4s 47ms/step - loss: 0.0420 - accuracy: 0.9847\n",
      "Epoch 143/200\n",
      "79/79 [==============================] - 4s 47ms/step - loss: 0.0351 - accuracy: 0.9885\n",
      "Epoch 144/200\n",
      "79/79 [==============================] - 4s 47ms/step - loss: 0.0510 - accuracy: 0.9873\n",
      "Epoch 145/200\n",
      "79/79 [==============================] - 4s 47ms/step - loss: 0.0424 - accuracy: 0.9885\n",
      "Epoch 146/200\n",
      "79/79 [==============================] - 4s 48ms/step - loss: 0.0599 - accuracy: 0.9835\n",
      "Epoch 147/200\n",
      "79/79 [==============================] - 4s 47ms/step - loss: 0.0155 - accuracy: 0.9962\n",
      "Epoch 148/200\n",
      "79/79 [==============================] - 4s 47ms/step - loss: 0.0240 - accuracy: 0.9885\n",
      "Epoch 149/200\n",
      "79/79 [==============================] - 4s 47ms/step - loss: 0.0910 - accuracy: 0.9733\n",
      "Epoch 150/200\n",
      "79/79 [==============================] - 4s 47ms/step - loss: 0.0515 - accuracy: 0.9847\n",
      "Epoch 151/200\n",
      "79/79 [==============================] - 4s 47ms/step - loss: 0.0410 - accuracy: 0.9860\n",
      "Epoch 152/200\n",
      "79/79 [==============================] - 4s 46ms/step - loss: 0.0579 - accuracy: 0.9873\n",
      "Epoch 153/200\n",
      "79/79 [==============================] - 4s 47ms/step - loss: 0.0217 - accuracy: 0.9898\n",
      "Epoch 154/200\n",
      "79/79 [==============================] - 4s 48ms/step - loss: 0.0274 - accuracy: 0.9949\n",
      "Epoch 155/200\n",
      "79/79 [==============================] - 4s 51ms/step - loss: 0.0525 - accuracy: 0.9911\n",
      "Epoch 156/200\n",
      "79/79 [==============================] - 4s 49ms/step - loss: 0.0287 - accuracy: 0.9885\n",
      "Epoch 157/200\n",
      "79/79 [==============================] - 4s 49ms/step - loss: 0.0218 - accuracy: 0.9898\n",
      "Epoch 158/200\n",
      "79/79 [==============================] - 4s 48ms/step - loss: 0.0031 - accuracy: 0.9987\n",
      "Epoch 159/200\n",
      "79/79 [==============================] - 4s 47ms/step - loss: 0.0056 - accuracy: 0.9987\n",
      "Epoch 160/200\n",
      "79/79 [==============================] - 4s 47ms/step - loss: 0.0491 - accuracy: 0.9898\n",
      "Epoch 161/200\n",
      "79/79 [==============================] - 4s 46ms/step - loss: 0.0875 - accuracy: 0.9707\n",
      "Epoch 162/200\n"
     ]
    },
    {
     "name": "stdout",
     "output_type": "stream",
     "text": [
      "79/79 [==============================] - 4s 47ms/step - loss: 0.0353 - accuracy: 0.9860\n",
      "Epoch 163/200\n",
      "79/79 [==============================] - 4s 48ms/step - loss: 0.0643 - accuracy: 0.9847\n",
      "Epoch 164/200\n",
      "79/79 [==============================] - 4s 47ms/step - loss: 0.0370 - accuracy: 0.9885\n",
      "Epoch 165/200\n",
      "79/79 [==============================] - 4s 47ms/step - loss: 0.1039 - accuracy: 0.9644\n",
      "Epoch 166/200\n",
      "79/79 [==============================] - 4s 47ms/step - loss: 0.0348 - accuracy: 0.9911\n",
      "Epoch 167/200\n",
      "79/79 [==============================] - 4s 47ms/step - loss: 0.0464 - accuracy: 0.9885\n",
      "Epoch 168/200\n",
      "79/79 [==============================] - 4s 47ms/step - loss: 0.0813 - accuracy: 0.9746\n",
      "Epoch 169/200\n",
      "79/79 [==============================] - 4s 47ms/step - loss: 0.0277 - accuracy: 0.9911\n",
      "Epoch 170/200\n",
      "79/79 [==============================] - 4s 47ms/step - loss: 0.0223 - accuracy: 0.9936\n",
      "Epoch 171/200\n",
      "79/79 [==============================] - 4s 47ms/step - loss: 0.0578 - accuracy: 0.9822\n",
      "Epoch 172/200\n",
      "79/79 [==============================] - 4s 47ms/step - loss: 0.0611 - accuracy: 0.9835\n",
      "Epoch 173/200\n",
      "79/79 [==============================] - 4s 47ms/step - loss: 0.0177 - accuracy: 0.9962\n",
      "Epoch 174/200\n",
      "79/79 [==============================] - 4s 47ms/step - loss: 0.0654 - accuracy: 0.9835\n",
      "Epoch 175/200\n",
      "79/79 [==============================] - 4s 47ms/step - loss: 0.0434 - accuracy: 0.9885\n",
      "Epoch 176/200\n",
      "79/79 [==============================] - 4s 47ms/step - loss: 0.0786 - accuracy: 0.9796\n",
      "Epoch 177/200\n",
      "79/79 [==============================] - 4s 47ms/step - loss: 0.0150 - accuracy: 0.9949\n",
      "Epoch 178/200\n",
      "79/79 [==============================] - 4s 47ms/step - loss: 0.0235 - accuracy: 0.9924\n",
      "Epoch 179/200\n",
      "79/79 [==============================] - 4s 47ms/step - loss: 0.0400 - accuracy: 0.9898\n",
      "Epoch 180/200\n",
      "79/79 [==============================] - 4s 46ms/step - loss: 0.0202 - accuracy: 0.9924\n",
      "Epoch 181/200\n",
      "79/79 [==============================] - 4s 48ms/step - loss: 0.0190 - accuracy: 0.9924\n",
      "Epoch 182/200\n",
      "79/79 [==============================] - 4s 48ms/step - loss: 0.0156 - accuracy: 0.9962\n",
      "Epoch 183/200\n",
      "79/79 [==============================] - 3s 43ms/step - loss: 0.0583 - accuracy: 0.9835\n",
      "Epoch 184/200\n",
      "79/79 [==============================] - 4s 46ms/step - loss: 0.0480 - accuracy: 0.9898\n",
      "Epoch 185/200\n",
      "79/79 [==============================] - 4s 47ms/step - loss: 0.0149 - accuracy: 0.9962\n",
      "Epoch 186/200\n",
      "79/79 [==============================] - 4s 46ms/step - loss: 0.0519 - accuracy: 0.9873\n",
      "Epoch 187/200\n",
      "79/79 [==============================] - 4s 47ms/step - loss: 0.0313 - accuracy: 0.9936\n",
      "Epoch 188/200\n",
      "79/79 [==============================] - 4s 47ms/step - loss: 0.0576 - accuracy: 0.9847\n",
      "Epoch 189/200\n",
      "79/79 [==============================] - 4s 47ms/step - loss: 0.0602 - accuracy: 0.9860\n",
      "Epoch 190/200\n",
      "79/79 [==============================] - 4s 47ms/step - loss: 0.0417 - accuracy: 0.9860\n",
      "Epoch 191/200\n",
      "79/79 [==============================] - 4s 47ms/step - loss: 0.0189 - accuracy: 0.9949\n",
      "Epoch 192/200\n",
      "79/79 [==============================] - 4s 47ms/step - loss: 0.0629 - accuracy: 0.9809\n",
      "Epoch 193/200\n",
      "79/79 [==============================] - 4s 47ms/step - loss: 0.0564 - accuracy: 0.9885\n",
      "Epoch 194/200\n",
      "79/79 [==============================] - 3s 44ms/step - loss: 0.0363 - accuracy: 0.9873\n",
      "Epoch 195/200\n",
      "79/79 [==============================] - 3s 44ms/step - loss: 0.0305 - accuracy: 0.9860\n",
      "Epoch 196/200\n",
      "79/79 [==============================] - 4s 47ms/step - loss: 0.0150 - accuracy: 0.9949\n",
      "Epoch 197/200\n",
      "79/79 [==============================] - 4s 47ms/step - loss: 0.0171 - accuracy: 0.9936\n",
      "Epoch 198/200\n",
      "79/79 [==============================] - 4s 49ms/step - loss: 0.0175 - accuracy: 0.9962\n",
      "Epoch 199/200\n",
      "79/79 [==============================] - 4s 47ms/step - loss: 0.0215 - accuracy: 0.9936\n",
      "Epoch 200/200\n",
      "79/79 [==============================] - 4s 45ms/step - loss: 0.0414 - accuracy: 0.9885\n"
     ]
    }
   ],
   "source": [
    "CNN = get_CNN(np.array(X_train), categorical_y_train, 200)"
   ]
  },
  {
   "cell_type": "code",
   "execution_count": 538,
   "id": "d6d9eb00",
   "metadata": {},
   "outputs": [
    {
     "name": "stdout",
     "output_type": "stream",
     "text": [
      "Saved model to disk\n"
     ]
    }
   ],
   "source": [
    "# #model\n",
    "# CNN.save(\"best_classifier.h5\")\n",
    "# model_json = CNN.to_json()\n",
    "# with open(\"model.json\", \"w\") as json_file:\n",
    "#     json_file.write(model_json)\n",
    "# # serialize weights to HDF5\n",
    "# CNN.save_weights(\"model.h5\")\n",
    "# print(\"Saved model to disk\")"
   ]
  },
  {
   "cell_type": "code",
   "execution_count": 532,
   "id": "fd82a995",
   "metadata": {
    "scrolled": false
   },
   "outputs": [
    {
     "name": "stdout",
     "output_type": "stream",
     "text": [
      "11/11 [==============================] - 0s 28ms/step\n"
     ]
    }
   ],
   "source": [
    "y_pred = CNN.predict(np.array(X_test))"
   ]
  },
  {
   "cell_type": "code",
   "execution_count": 533,
   "id": "33bf11bf",
   "metadata": {},
   "outputs": [],
   "source": [
    "list_pred = [np.argmax(i) for i in y_pred]"
   ]
  },
  {
   "cell_type": "code",
   "execution_count": 534,
   "id": "d9a89ef7",
   "metadata": {},
   "outputs": [
    {
     "data": {
      "text/plain": [
       "0.9406528189910979"
      ]
     },
     "execution_count": 534,
     "metadata": {},
     "output_type": "execute_result"
    }
   ],
   "source": [
    "metrics.accuracy_score(y_test, list_pred)"
   ]
  },
  {
   "cell_type": "code",
   "execution_count": 535,
   "id": "64111b3b",
   "metadata": {},
   "outputs": [
    {
     "data": {
      "image/png": "[encoded data removed]",
      "text/plain": [
       "<Figure size 640x480 with 2 Axes>"
      ]
     },
     "metadata": {},
     "output_type": "display_data"
    }
   ],
   "source": [
    "get_confusion_matrix(y_true=y_test, y_pred=list_pred, modelo='CNN')"
   ]
  }
 ],
 "metadata": {
  "kernelspec": {
   "display_name": "Python 3 (ipykernel)",
   "language": "python",
   "name": "python3"
  },
  "language_info": {
   "codemirror_mode": {
    "name": "ipython",
    "version": 3
   },
   "file_extension": ".py",
   "mimetype": "text/x-python",
   "name": "python",
   "nbconvert_exporter": "python",
   "pygments_lexer": "ipython3",
   "version": "3.9.12"
  }
 },
 "nbformat": 4,
 "nbformat_minor": 5
}
