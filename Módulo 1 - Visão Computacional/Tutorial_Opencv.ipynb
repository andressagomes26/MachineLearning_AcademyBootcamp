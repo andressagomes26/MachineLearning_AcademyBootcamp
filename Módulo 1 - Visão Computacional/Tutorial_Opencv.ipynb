{
 "cells": [
  {
   "cell_type": "markdown",
   "id": "013ed73a",
   "metadata": {},
   "source": [
    "## Tutorial Opencv\n",
    "\n",
    "> Este tutorial apresenta conceitos introdutórios de processamento de imagens (filtros) e de visão computacional (segmentação, classificação, reconhecimento de padrão e rastreamento). Estes conceitos serão introduzidos utilizando a biblioteca **OpenCV**, que é distribuída gratuitamente e possui documentação farta na internet, com exemplos e aplicações práticas. Para utilizar essa biblioteca em python acesse o terminal com ambiente de python ativado e digite ```pip install opencv-python```."
   ]
  },
  {
   "cell_type": "code",
   "execution_count": 1,
   "id": "f2239232",
   "metadata": {},
   "outputs": [],
   "source": [
    "# Importação das bibliotecas\n",
    "import cv2\n",
    "import numpy as np"
   ]
  },
  {
   "cell_type": "code",
   "execution_count": 2,
   "id": "ac76428d",
   "metadata": {},
   "outputs": [
    {
     "name": "stdout",
     "output_type": "stream",
     "text": [
      "Propriedades da imagem: (254, 248, 3)\n",
      "Altura em pixels: 254\n",
      "Largura em pixels: 248\n",
      "Qtde de canais: 3\n"
     ]
    },
    {
     "data": {
      "text/plain": [
       "True"
      ]
     },
     "execution_count": 2,
     "metadata": {},
     "output_type": "execute_result"
    }
   ],
   "source": [
    "# Leitura da imagem com a função imread()\n",
    "imagem = cv2.imread('entrada.jpg')\n",
    "\n",
    "#Propriedades da imagem\n",
    "print('Propriedades da imagem: ', end='')\n",
    "print(imagem.shape)\n",
    "\n",
    "#Altura da imagem \n",
    "print('Altura em pixels: ', end='')\n",
    "print(imagem.shape[0])\n",
    "\n",
    "#Largura da imagem\n",
    "print('Largura em pixels: ', end='')\n",
    "print(imagem.shape[1])\n",
    "\n",
    "#Qtde de canais\n",
    "print('Qtde de canais: ', end='')\n",
    "print(imagem.shape[2])\n",
    "\n",
    "# Mostra a imagem com a função imshow\n",
    "cv2.imshow(\"Nome da janela\", imagem)\n",
    "cv2.waitKey(0) #espera pressionar qualquer tecla\n",
    "\n",
    "# Salvar a imagem no disco com função imwrite()\n",
    "cv2.imwrite(\"saida.jpg\", imagem)"
   ]
  },
  {
   "cell_type": "markdown",
   "id": "c3dd8002",
   "metadata": {},
   "source": [
    "> A importação da biblioteca padrão da OpenCV é obrigatória para utilizar suas funções. A primeira função usada é para abrir a imagem através de ```cv2.imread()``` que leva como argumento o nome do arquivo em disco. \n",
    "\n",
    "> A imagem é lida e armazenada em ‘imagem’ que é uma variavel que dará acesso ao objeto da imagem que nada mais é que uma matriz de 3 dimensões (3 canais) contendo em cada dimensão uma das 3 cores do padrão RGB (red=vermelho, green-verde, blue=azul). \n",
    "\n",
    "> No caso de uma imagem preto e branca temos apenas um canal, ou seja, apenas uma matriz de 2 dimensões. Para facilitar o entendimento podemos pensar em uma planilha eletrônica, com linhas e colunas, portanto, uma matriz de 2 dimensões. Cada célula dessa matriz é um pixel, que no caso de imagens preto e brancas possuem um valor de 0 a 255, sendo 0 para preto e 255 para branco. Portanto, cada célula contém um inteiro de 8 bits (sem sinal) que em Python é definido por “uint8” que é um unsigned integer de 8 bits. "
   ]
  },
  {
   "cell_type": "markdown",
   "id": "73ef6a82",
   "metadata": {},
   "source": [
    "> No  caso  de  imagens  preto  e  branca  é  composta  de  apenas  uma  matriz  de  duas  dimensões  como  na  imagem  acima.  \n",
    "> Já  para  imagens  coloridas  temos  três  dessas  matrizes  de duas dimensões cada uma representando uma das cores do sistema RGB. Portanto, cada pixel é formado de uma tupla de 3 inteiros de 8 bits sem sinal no sistema (R,G,B) sendo que (0,0,0) representa o preto, (255,255,255) o branco. Nesse sentido, as cores mais comuns são:  \n",
    "\n",
    "> Branco - RGB (255,255,255); \n",
    "Azul - RGB (0,0,255); \n",
    "Vermelho - RGB (255,0,0); \n",
    "Verde - RGB (0,255,0); \n",
    "Amarelo - RGB (255,255,0); \n",
    "Magenta - RGB (255,0,255); \n",
    "Ciano - RGB (0,255,255); \n",
    "Preto - RGB (0,0,0). \n",
    "\n",
    "> As imagens coloridas, portanto, são compostas normalmente de 3 matrizes de inteiros  sem  sinal  de  8  bits,  a  junção  das  3  matrizes  produz  a  imagem  colorida  com  capacidade  de reprodução de 16,7 milhões de cores, sendo que os 8 bits tem capacidade para 256 valores e  elevando a 3 temos 256³ = 16,7 milhões. \n",
    "\n",
    "> Podemos  alterar  a  cor  individualmente  para  cada  pixel, ou seja, podemos manipular individualmente cada pixel da imagem.  Para isso é importante entender o sistema de coordenadas (linha, coluna) onde o pixel mais a esquerda e acima da imagem esta na posição (0,0) esta na linha zero e coluna zero. Já em uma imagem com 300 pixels de largura, ou seja, 300 colunas e tendo 200 pixels de altura,  ou  seja,  200  linhas,  terá  o  pixel  (199,299)  como  sendo  o  pixel  mais  a  direita  e  abaixo  da imagem.  "
   ]
  },
  {
   "cell_type": "markdown",
   "id": "0a8c30a6",
   "metadata": {},
   "source": [
    "> A partir do entendimento do sistema de coordenadas é possível alterar individualmente cada pixel ou ler a informação individual do pixel conforme abaixo: \n",
    "\n",
    "> Imagens são matrizes Numpy neste caso retornadas pelo método ```“imread”``` e armazenada em memória através da variável “imagem” conforme acima. Lembre-se que o pixel superior mais a esquerda é o (0,0). \n",
    "\n",
    "> No código é retornado na tupla (b, g, r) os respectivos valores das cores do pixel superior mais a esquerda. Veja que o método retorna a sequência BGR e não RGB como poderiamos esperar. Tendo os valores inteiros de cada cor é possível exibi-los na tela com o código abaixo:"
   ]
  },
  {
   "cell_type": "code",
   "execution_count": 3,
   "id": "e7d14b6d",
   "metadata": {},
   "outputs": [
    {
     "name": "stdout",
     "output_type": "stream",
     "text": [
      "O pixel (0, 0) tem as seguintes cores:\n",
      "Vermelho: 255 Verde: 255 Azul: 255\n"
     ]
    }
   ],
   "source": [
    "imagem = cv2.imread('ponte.png') \n",
    "(b, g, r) = imagem[0, 0] # Veja que a ordem BGR e não RGB  = tupla\n",
    "\n",
    "print('O pixel (0, 0) tem as seguintes cores:') \n",
    "print('Vermelho:', r, 'Verde:', g, 'Azul:', b)  "
   ]
  },
  {
   "cell_type": "markdown",
   "id": "f71f3e9f",
   "metadata": {},
   "source": [
    "> Outra possibilidade é utilizar dois laços de repetição para “varrer” todos os pixels da  imagem, linha por linha como é o caso do código abaixo. Importante notar que esta estratégia pode  não  ser  muito  performática  já  que  é  um  processo  lento  varrer  toda  a  imagem  pixel  a pixel. "
   ]
  },
  {
   "cell_type": "code",
   "execution_count": 4,
   "id": "0e23cc8a",
   "metadata": {},
   "outputs": [
    {
     "data": {
      "text/plain": [
       "-1"
      ]
     },
     "execution_count": 4,
     "metadata": {},
     "output_type": "execute_result"
    }
   ],
   "source": [
    "imagem = cv2.imread('ponte.png') \n",
    "for y in range(0, imagem.shape[0]):\n",
    "    for x in range(0, imagem.shape[1]):\n",
    "        imagem[y, x] = (255,0,0)\n",
    "        \n",
    "cv2.imshow(\"Imagem modificada\", imagem) \n",
    "cv2.waitKey(0) #espera pressionar qualquer tecla"
   ]
  },
  {
   "cell_type": "markdown",
   "id": "a05a1ec8",
   "metadata": {},
   "source": [
    "> O objetivo agora é saltar a cada 10 pixels ao percorrer as linhas e mais 10 pixels ao percorrer as colunas. A cada salto é criado um quadrado amarelo de 5x5 pixels. Desta vez parte da imagem original é preservada e  podemos ainda observar a ponte por baixo da grade de quadrados amarelos. "
   ]
  },
  {
   "cell_type": "code",
   "execution_count": 10,
   "id": "8dc7f113",
   "metadata": {},
   "outputs": [
    {
     "data": {
      "text/plain": [
       "-1"
      ]
     },
     "execution_count": 10,
     "metadata": {},
     "output_type": "execute_result"
    }
   ],
   "source": [
    "imagem = cv2.imread('ponte.png')\n",
    "for y in range(0, imagem.shape[0], 10): #percorre linhas saltando 10 linhas\n",
    "    for x in range(0, imagem.shape[1], 10): #percorre colunas saltando 10 colunas\n",
    "        imagem[y: y+5, x: x+5] = (0,255,255)\n",
    "cv2.imshow(\"Imagem modificada\", imagem) \n",
    "cv2.waitKey(0)"
   ]
  },
  {
   "cell_type": "markdown",
   "id": "84ac7fa2",
   "metadata": {},
   "source": [
    "### Cortando uma imagem / Crop"
   ]
  },
  {
   "cell_type": "markdown",
   "id": "881d1293",
   "metadata": {},
   "source": [
    "> Veja  o  código  abaixo onde criamos uma nova imagem a partir de um pedaço da imagem original (ROI) e a salvamos no\n",
    "disco."
   ]
  },
  {
   "cell_type": "code",
   "execution_count": 7,
   "id": "17c5abf5",
   "metadata": {},
   "outputs": [
    {
     "data": {
      "text/plain": [
       "True"
      ]
     },
     "execution_count": 7,
     "metadata": {},
     "output_type": "execute_result"
    }
   ],
   "source": [
    "imagem = cv2.imread('ponte.png')\n",
    "recorte = imagem[100:200, 100:200]  #imagem[linhas, colunas] ou imagem[altura, largura] ou imagem[y, x]\n",
    "\n",
    "cv2.imshow(\"Recorte da imagem\", recorte)\n",
    "cv2.waitKey(0)\n",
    "\n",
    "cv2.imwrite(\"recorte.png\", recorte) #salva no disco "
   ]
  },
  {
   "cell_type": "markdown",
   "id": "e79ac3ac",
   "metadata": {},
   "source": [
    "### Redimensionamento / Resize"
   ]
  },
  {
   "cell_type": "markdown",
   "id": "ebcddbce",
   "metadata": {},
   "source": [
    "> Para  reduzir  ou  aumentar  o  tamanho  da  imagem,  existe  uma  função  já  pronta  da OpenCV, trata-se da função ```resize``` mostrada abaixo. \n",
    "\n",
    "> Importante notar que é preciso calcular a proporção da altura em relação a largura da nova imagem, caso contrário ela poderá ficar distorcida."
   ]
  },
  {
   "cell_type": "code",
   "execution_count": 4,
   "id": "2fe35a3d",
   "metadata": {},
   "outputs": [
    {
     "data": {
      "text/plain": [
       "-1"
      ]
     },
     "execution_count": 4,
     "metadata": {},
     "output_type": "execute_result"
    }
   ],
   "source": [
    "img = cv2.imread('ponte.png')\n",
    "#cv2.imshow(\"Original\", img)\n",
    "\n",
    "largura = img.shape[1]\n",
    "altura = img.shape[0]\n",
    "proporcao = float(altura/largura)\n",
    "\n",
    "largura_nova = 320 #em pixels\n",
    "altura_nova = int(largura_nova*proporcao)\n",
    "tamanho_novo = (largura_nova, altura_nova)\n",
    "\n",
    "img_redimensionada = cv2.resize(img, tamanho_novo, interpolation = cv2.INTER_AREA)\n",
    "cv2.imshow('Resultado', img_redimensionada)\n",
    "cv2.waitKey(0) "
   ]
  },
  {
   "cell_type": "markdown",
   "id": "7a4f0d1a",
   "metadata": {},
   "source": [
    "> Veja  que  a  função  ```resize```  utiliza  uma  propriedade  aqui  definida  com ```cv2.INTER_AREA``` que  é  uma  especificação  do  cálculo  matemático  para  redimensionar  a imagem. Apesar disso, caso a imagem seja redimensionada para um tamanho maior é preciso ponderar que ocorrerá perda de qualidade.  "
   ]
  },
  {
   "cell_type": "markdown",
   "id": "453a0ff2",
   "metadata": {},
   "source": [
    "### Espelhando uma imagem / Flip  "
   ]
  },
  {
   "cell_type": "markdown",
   "id": "10038018",
   "metadata": {},
   "source": [
    "> Para espelhar uma imagem, basta inverter suas linhas, suas colunas ou ambas.  \n",
    "* Invertendo as linhas: flip horizontal \n",
    "* Invertendo as colunas: flip vertical.\n",
    "    \n",
    "> Podemos fazer o espelhamento/flip tanto com uma função oferecida pela OpenCV (função flip) como através da manipulação direta das matrizes que compõe a imagem. "
   ]
  },
  {
   "cell_type": "code",
   "execution_count": 13,
   "id": "345a49ad",
   "metadata": {},
   "outputs": [
    {
     "data": {
      "text/plain": [
       "-1"
      ]
     },
     "execution_count": 13,
     "metadata": {},
     "output_type": "execute_result"
    }
   ],
   "source": [
    "img = cv2.imread('ponte.png')\n",
    "cv2.imshow(\"Original\", img) \n",
    "\n",
    "#flip_horizontal = img[::-1,:] #comando equivalente abaixo \n",
    "flip_horizontal = cv2.flip(img, 0)  \n",
    "cv2.imshow(\"Flip Horizontal\", flip_horizontal) \n",
    "\n",
    "#flip_vertical = img[:,::-1] #comando equivalente abaixo \n",
    "flip_vertical = cv2.flip(img, 1)  \n",
    "cv2.imshow(\"Flip Vertical\", flip_vertical) \n",
    "\n",
    "#flip_hv = img[::-1,::-1] #comando equivalente abaixo  \n",
    "flip_hv = cv2.flip(img, -1)\n",
    "cv2.imshow(\"Flip Horizontal e Vertical\", flip_hv)\n",
    "\n",
    "cv2.waitKey(0) "
   ]
  },
  {
   "cell_type": "markdown",
   "id": "a18d5fff",
   "metadata": {},
   "source": [
    "### Rotacionando uma imagem / Rotate"
   ]
  },
  {
   "cell_type": "markdown",
   "id": "3fdb5cf3",
   "metadata": {},
   "source": [
    "> A  transformação  ```affine```  ou  ```mapa  affine```,  é  uma  função  entre  espaços  affine  que preservam  os  pontos,  grossura  de linhas  e  planos.  Além  disso,  linhas  paralelas  permanecem paralelas após uma transformação affine. Essa transformação não necessariamente preserva a distância entre pontos mas ela preserva a proporção das distâncias entre os pontos de uma linha reta. Uma rotação é um tipo de transformação affine. "
   ]
  },
  {
   "cell_type": "code",
   "execution_count": 20,
   "id": "8c198404",
   "metadata": {},
   "outputs": [
    {
     "data": {
      "text/plain": [
       "-1"
      ]
     },
     "execution_count": 20,
     "metadata": {},
     "output_type": "execute_result"
    }
   ],
   "source": [
    "img = cv2.imread('ponte.png')\n",
    "\n",
    "(alt, lar) = img.shape[:2] #captura altura e largura \n",
    "centro = (lar // 2, alt // 2) #acha o centro  \n",
    "\n",
    "M = cv2.getRotationMatrix2D(centro, 30, 1.0)#30 graus \n",
    "img_rotacionada = cv2.warpAffine(img, M, (lar, alt))  \n",
    "\n",
    "cv2.imshow(\"Imagem rotacionada em 30 graus\", img_rotacionada) \n",
    "cv2.waitKey(0)\n",
    "  "
   ]
  },
  {
   "cell_type": "markdown",
   "id": "b5699cd1",
   "metadata": {},
   "source": [
    "### Sistemas de cores "
   ]
  },
  {
   "cell_type": "markdown",
   "id": "658b3c85",
   "metadata": {},
   "source": [
    "> Já  conhecemos  o  tradicional  espaço  de  cores  **RGB  (Red,  Green,  Blue)**  que  sabemos que  em  OpenCV  é  na  verdade  BGR  dada  a  necessidade  de  colocar  o  azul  como  primeiro elemento e o vermelho como terceiro elemento de uma tupla que compõe as cores de pixel.  \n",
    "\n",
    "> Contudo, existem outros espaços de cores como o próprio “Preto e Branco” ou “tons de cinza”, além de outros coloridos como o **L*a*b*** e o **HSV**. Abaixo temos um exemplo de como ficaria nossa imagem da ponte nos outros espaços de cores :"
   ]
  },
  {
   "cell_type": "code",
   "execution_count": 21,
   "id": "54d5948c",
   "metadata": {},
   "outputs": [
    {
     "data": {
      "text/plain": [
       "113"
      ]
     },
     "execution_count": 21,
     "metadata": {},
     "output_type": "execute_result"
    }
   ],
   "source": [
    "img = cv2.imread('ponte.png')\n",
    "\n",
    "cv2.imshow(\"Original\", img)\n",
    "\n",
    "gray = cv2.cvtColor(img, cv2.COLOR_BGR2GRAY)\n",
    "cv2.imshow(\"Gray\", gray)\n",
    "\n",
    "hsv = cv2.cvtColor(img, cv2.COLOR_BGR2HSV)\n",
    "cv2.imshow(\"HSV\", hsv)\n",
    "\n",
    "lab = cv2.cvtColor(img, cv2.COLOR_BGR2LAB)\n",
    "cv2.imshow(\"L*a*b*\", lab)\n",
    "\n",
    "cv2.waitKey(0) "
   ]
  },
  {
   "cell_type": "markdown",
   "id": "65787d28",
   "metadata": {},
   "source": [
    "> Como  já  sabemos  uma  imagem  colorida  no  formato  RGB  possui  3  canais,  um  para cada  cor.  \n",
    "\n",
    ">Existem  funções  do  OpenCV  que  permitem  separar  e  visualizar  esses  canais individualmente. Veja: \n",
    "\n",
    "> A função ```split``` faz o trabalho duro separando os canais. Assim podemos exibi-los em tons de cinza conforme mostra a imagem abaixo:"
   ]
  },
  {
   "cell_type": "code",
   "execution_count": 2,
   "id": "14f3d0c8",
   "metadata": {},
   "outputs": [
    {
     "data": {
      "text/plain": [
       "-1"
      ]
     },
     "execution_count": 2,
     "metadata": {},
     "output_type": "execute_result"
    }
   ],
   "source": [
    "img = cv2.imread('ponte.png')\n",
    "\n",
    "(canalAzul, canalVerde, canalVermelho) = cv2.split(img)\n",
    "\n",
    "cv2.imshow(\"Vermelho\", canalVermelho) \n",
    "cv2.imshow(\"Verde\", canalVerde) \n",
    "cv2.imshow(\"Azul\", canalAzul) \n",
    "\n",
    "cv2.waitKey(0) "
   ]
  },
  {
   "cell_type": "markdown",
   "id": "7f6a4ab8",
   "metadata": {},
   "source": [
    "> Também é possível alterar individualmente as Numpy Arrays que formam cada canal e depois juntá-las para criar novamente a imagem. Para isso use o comando: "
   ]
  },
  {
   "cell_type": "code",
   "execution_count": 5,
   "id": "bb679bdb",
   "metadata": {},
   "outputs": [
    {
     "data": {
      "text/plain": [
       "-1"
      ]
     },
     "execution_count": 5,
     "metadata": {},
     "output_type": "execute_result"
    }
   ],
   "source": [
    "resultado = cv2.merge([canalAzul, canalVerde, canalVermelho]) \n",
    "cv2.imshow(\"resultado\", resultado)\n",
    "cv2.waitKey(0) "
   ]
  },
  {
   "cell_type": "markdown",
   "id": "5e522766",
   "metadata": {},
   "source": [
    ">Também é possível exibir os canais nas cores originais conforme abaixo:  "
   ]
  },
  {
   "cell_type": "code",
   "execution_count": 12,
   "id": "d1b66da0",
   "metadata": {},
   "outputs": [
    {
     "data": {
      "text/plain": [
       "-1"
      ]
     },
     "execution_count": 12,
     "metadata": {},
     "output_type": "execute_result"
    }
   ],
   "source": [
    "img = cv2.imread('ponte.png')  \n",
    "\n",
    "(canalAzul, canalVerde, canalVermelho) = cv2.split(img)  \n",
    "zeros = np.zeros(img.shape[:2], dtype = \"uint8\")  \n",
    "\n",
    "cv2.imshow(\"Vermelho\", cv2.merge([zeros, zeros, canalVermelho]))  \n",
    "cv2.imshow(\"Verde\", cv2.merge([zeros, canalVerde, zeros])) \n",
    "cv2.imshow(\"Azul\", cv2.merge([canalAzul, zeros, zeros])) \n",
    "\n",
    "cv2.imshow(\"Original\", img) \n",
    "cv2.waitKey(0) "
   ]
  },
  {
   "cell_type": "code",
   "execution_count": null,
   "id": "10be81c6",
   "metadata": {},
   "outputs": [],
   "source": []
  }
 ],
 "metadata": {
  "kernelspec": {
   "display_name": "Python 3 (ipykernel)",
   "language": "python",
   "name": "python3"
  },
  "language_info": {
   "codemirror_mode": {
    "name": "ipython",
    "version": 3
   },
   "file_extension": ".py",
   "mimetype": "text/x-python",
   "name": "python",
   "nbconvert_exporter": "python",
   "pygments_lexer": "ipython3",
   "version": "3.9.12"
  }
 },
 "nbformat": 4,
 "nbformat_minor": 5
}
