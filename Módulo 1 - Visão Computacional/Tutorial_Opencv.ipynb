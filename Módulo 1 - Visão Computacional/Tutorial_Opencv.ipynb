{
 "cells": [
  {
   "cell_type": "markdown",
   "id": "013ed73a",
   "metadata": {},
   "source": [
    "## Tutorial Opencv\n",
    "\n",
    "> Este tutorial apresenta conceitos introdutórios de processamento de imagens (filtros) e de visão computacional (segmentação, classificação, reconhecimento de padrão e rastreamento). Estes conceitos serão introduzidos utilizando a biblioteca **OpenCV**, que é distribuída gratuitamente e possui documentação farta na internet, com exemplos e aplicações práticas. Para utilizar essa biblioteca em python acesse o terminal com ambiente de python ativado e digite ```pip install opencv-python```."
   ]
  },
  {
   "cell_type": "code",
   "execution_count": 3,
   "id": "fd4b5c1f",
   "metadata": {},
   "outputs": [],
   "source": [
    "#!pip uninstall mahotas"
   ]
  },
  {
   "cell_type": "code",
   "execution_count": 1,
   "id": "f2239232",
   "metadata": {},
   "outputs": [],
   "source": [
    "# Importação das bibliotecas\n",
    "import mahotas \n",
    "import numpy as np \n",
    "import cv2\n",
    "from matplotlib import pyplot as plt"
   ]
  },
  {
   "cell_type": "code",
   "execution_count": 2,
   "id": "ac76428d",
   "metadata": {},
   "outputs": [
    {
     "name": "stdout",
     "output_type": "stream",
     "text": [
      "Propriedades da imagem: (254, 248, 3)\n",
      "Altura em pixels: 254\n",
      "Largura em pixels: 248\n",
      "Qtde de canais: 3\n"
     ]
    },
    {
     "data": {
      "text/plain": [
       "True"
      ]
     },
     "execution_count": 2,
     "metadata": {},
     "output_type": "execute_result"
    }
   ],
   "source": [
    "# Leitura da imagem com a função imread()\n",
    "imagem = cv2.imread('entrada.jpg')\n",
    "\n",
    "#Propriedades da imagem\n",
    "print('Propriedades da imagem: ', end='')\n",
    "print(imagem.shape)\n",
    "\n",
    "#Altura da imagem \n",
    "print('Altura em pixels: ', end='')\n",
    "print(imagem.shape[0])\n",
    "\n",
    "#Largura da imagem\n",
    "print('Largura em pixels: ', end='')\n",
    "print(imagem.shape[1])\n",
    "\n",
    "#Qtde de canais\n",
    "print('Qtde de canais: ', end='')\n",
    "print(imagem.shape[2])\n",
    "\n",
    "# Mostra a imagem com a função imshow\n",
    "cv2.imshow(\"Nome da janela\", imagem)\n",
    "cv2.waitKey(0) #espera pressionar qualquer tecla\n",
    "\n",
    "# Salvar a imagem no disco com função imwrite()\n",
    "cv2.imwrite(\"saida.jpg\", imagem)"
   ]
  },
  {
   "cell_type": "markdown",
   "id": "c3dd8002",
   "metadata": {},
   "source": [
    "> A importação da biblioteca padrão da OpenCV é obrigatória para utilizar suas funções. A primeira função usada é para abrir a imagem através de ```cv2.imread()``` que leva como argumento o nome do arquivo em disco. \n",
    "\n",
    "> A imagem é lida e armazenada em ‘imagem’ que é uma variavel que dará acesso ao objeto da imagem que nada mais é que uma matriz de 3 dimensões (3 canais) contendo em cada dimensão uma das 3 cores do padrão RGB (red=vermelho, green-verde, blue=azul). \n",
    "\n",
    "> No caso de uma imagem preto e branca temos apenas um canal, ou seja, apenas uma matriz de 2 dimensões. Para facilitar o entendimento podemos pensar em uma planilha eletrônica, com linhas e colunas, portanto, uma matriz de 2 dimensões. Cada célula dessa matriz é um pixel, que no caso de imagens preto e brancas possuem um valor de 0 a 255, sendo 0 para preto e 255 para branco. Portanto, cada célula contém um inteiro de 8 bits (sem sinal) que em Python é definido por “uint8” que é um unsigned integer de 8 bits. "
   ]
  },
  {
   "cell_type": "markdown",
   "id": "73ef6a82",
   "metadata": {},
   "source": [
    "> No  caso  de  imagens  preto  e  branca  é  composta  de  apenas  uma  matriz  de  duas  dimensões  como  na  imagem  acima.  \n",
    "> Já  para  imagens  coloridas  temos  três  dessas  matrizes  de duas dimensões cada uma representando uma das cores do sistema RGB. Portanto, cada pixel é formado de uma tupla de 3 inteiros de 8 bits sem sinal no sistema (R,G,B) sendo que (0,0,0) representa o preto, (255,255,255) o branco. Nesse sentido, as cores mais comuns são:  \n",
    "\n",
    "> Branco - RGB (255,255,255); \n",
    "Azul - RGB (0,0,255); \n",
    "Vermelho - RGB (255,0,0); \n",
    "Verde - RGB (0,255,0); \n",
    "Amarelo - RGB (255,255,0); \n",
    "Magenta - RGB (255,0,255); \n",
    "Ciano - RGB (0,255,255); \n",
    "Preto - RGB (0,0,0). \n",
    "\n",
    "> As imagens coloridas, portanto, são compostas normalmente de 3 matrizes de inteiros  sem  sinal  de  8  bits,  a  junção  das  3  matrizes  produz  a  imagem  colorida  com  capacidade  de reprodução de 16,7 milhões de cores, sendo que os 8 bits tem capacidade para 256 valores e  elevando a 3 temos 256³ = 16,7 milhões. \n",
    "\n",
    "> Podemos  alterar  a  cor  individualmente  para  cada  pixel, ou seja, podemos manipular individualmente cada pixel da imagem.  Para isso é importante entender o sistema de coordenadas (linha, coluna) onde o pixel mais a esquerda e acima da imagem esta na posição (0,0) esta na linha zero e coluna zero. Já em uma imagem com 300 pixels de largura, ou seja, 300 colunas e tendo 200 pixels de altura,  ou  seja,  200  linhas,  terá  o  pixel  (199,299)  como  sendo  o  pixel  mais  a  direita  e  abaixo  da imagem.  "
   ]
  },
  {
   "cell_type": "markdown",
   "id": "0a8c30a6",
   "metadata": {},
   "source": [
    "> A partir do entendimento do sistema de coordenadas é possível alterar individualmente cada pixel ou ler a informação individual do pixel conforme abaixo: \n",
    "\n",
    "> Imagens são matrizes Numpy neste caso retornadas pelo método ```“imread”``` e armazenada em memória através da variável “imagem” conforme acima. Lembre-se que o pixel superior mais a esquerda é o (0,0). \n",
    "\n",
    "> No código é retornado na tupla (b, g, r) os respectivos valores das cores do pixel superior mais a esquerda. Veja que o método retorna a sequência BGR e não RGB como poderiamos esperar. Tendo os valores inteiros de cada cor é possível exibi-los na tela com o código abaixo:"
   ]
  },
  {
   "cell_type": "code",
   "execution_count": 3,
   "id": "e7d14b6d",
   "metadata": {},
   "outputs": [
    {
     "name": "stdout",
     "output_type": "stream",
     "text": [
      "O pixel (0, 0) tem as seguintes cores:\n",
      "Vermelho: 255 Verde: 255 Azul: 255\n"
     ]
    }
   ],
   "source": [
    "imagem = cv2.imread('ponte.png') \n",
    "(b, g, r) = imagem[0, 0] # Veja que a ordem BGR e não RGB  = tupla\n",
    "\n",
    "print('O pixel (0, 0) tem as seguintes cores:') \n",
    "print('Vermelho:', r, 'Verde:', g, 'Azul:', b)  "
   ]
  },
  {
   "cell_type": "markdown",
   "id": "f71f3e9f",
   "metadata": {},
   "source": [
    "> Outra possibilidade é utilizar dois laços de repetição para “varrer” todos os pixels da  imagem, linha por linha como é o caso do código abaixo. Importante notar que esta estratégia pode  não  ser  muito  performática  já  que  é  um  processo  lento  varrer  toda  a  imagem  pixel  a pixel. "
   ]
  },
  {
   "cell_type": "code",
   "execution_count": 4,
   "id": "0e23cc8a",
   "metadata": {},
   "outputs": [
    {
     "data": {
      "text/plain": [
       "-1"
      ]
     },
     "execution_count": 4,
     "metadata": {},
     "output_type": "execute_result"
    }
   ],
   "source": [
    "imagem = cv2.imread('ponte.png') \n",
    "for y in range(0, imagem.shape[0]):\n",
    "    for x in range(0, imagem.shape[1]):\n",
    "        imagem[y, x] = (255,0,0)\n",
    "        \n",
    "cv2.imshow(\"Imagem modificada\", imagem) \n",
    "cv2.waitKey(0) #espera pressionar qualquer tecla"
   ]
  },
  {
   "cell_type": "markdown",
   "id": "a05a1ec8",
   "metadata": {},
   "source": [
    "> O objetivo agora é saltar a cada 10 pixels ao percorrer as linhas e mais 10 pixels ao percorrer as colunas. A cada salto é criado um quadrado amarelo de 5x5 pixels. Desta vez parte da imagem original é preservada e  podemos ainda observar a ponte por baixo da grade de quadrados amarelos. "
   ]
  },
  {
   "cell_type": "code",
   "execution_count": 10,
   "id": "8dc7f113",
   "metadata": {},
   "outputs": [
    {
     "data": {
      "text/plain": [
       "-1"
      ]
     },
     "execution_count": 10,
     "metadata": {},
     "output_type": "execute_result"
    }
   ],
   "source": [
    "imagem = cv2.imread('ponte.png')\n",
    "for y in range(0, imagem.shape[0], 10): #percorre linhas saltando 10 linhas\n",
    "    for x in range(0, imagem.shape[1], 10): #percorre colunas saltando 10 colunas\n",
    "        imagem[y: y+5, x: x+5] = (0,255,255)\n",
    "cv2.imshow(\"Imagem modificada\", imagem) \n",
    "cv2.waitKey(0)"
   ]
  },
  {
   "cell_type": "markdown",
   "id": "84ac7fa2",
   "metadata": {},
   "source": [
    "### Cortando uma imagem / Crop"
   ]
  },
  {
   "cell_type": "markdown",
   "id": "881d1293",
   "metadata": {},
   "source": [
    "> Veja  o  código  abaixo onde criamos uma nova imagem a partir de um pedaço da imagem original (ROI) e a salvamos no\n",
    "disco."
   ]
  },
  {
   "cell_type": "code",
   "execution_count": 7,
   "id": "17c5abf5",
   "metadata": {},
   "outputs": [
    {
     "data": {
      "text/plain": [
       "True"
      ]
     },
     "execution_count": 7,
     "metadata": {},
     "output_type": "execute_result"
    }
   ],
   "source": [
    "imagem = cv2.imread('ponte.png')\n",
    "recorte = imagem[100:200, 100:200]  #imagem[linhas, colunas] ou imagem[altura, largura] ou imagem[y, x]\n",
    "\n",
    "cv2.imshow(\"Recorte da imagem\", recorte)\n",
    "cv2.waitKey(0)\n",
    "\n",
    "cv2.imwrite(\"recorte.png\", recorte) #salva no disco "
   ]
  },
  {
   "cell_type": "markdown",
   "id": "e79ac3ac",
   "metadata": {},
   "source": [
    "### Redimensionamento / Resize"
   ]
  },
  {
   "cell_type": "markdown",
   "id": "ebcddbce",
   "metadata": {},
   "source": [
    "> Para  reduzir  ou  aumentar  o  tamanho  da  imagem,  existe  uma  função  já  pronta  da OpenCV, trata-se da função ```resize``` mostrada abaixo. \n",
    "\n",
    "> Importante notar que é preciso calcular a proporção da altura em relação a largura da nova imagem, caso contrário ela poderá ficar distorcida."
   ]
  },
  {
   "cell_type": "code",
   "execution_count": 4,
   "id": "2fe35a3d",
   "metadata": {},
   "outputs": [
    {
     "data": {
      "text/plain": [
       "-1"
      ]
     },
     "execution_count": 4,
     "metadata": {},
     "output_type": "execute_result"
    }
   ],
   "source": [
    "img = cv2.imread('ponte.png')\n",
    "#cv2.imshow(\"Original\", img)\n",
    "\n",
    "largura = img.shape[1]\n",
    "altura = img.shape[0]\n",
    "proporcao = float(altura/largura)\n",
    "\n",
    "largura_nova = 320 #em pixels\n",
    "altura_nova = int(largura_nova*proporcao)\n",
    "tamanho_novo = (largura_nova, altura_nova)\n",
    "\n",
    "img_redimensionada = cv2.resize(img, tamanho_novo, interpolation = cv2.INTER_AREA)\n",
    "cv2.imshow('Resultado', img_redimensionada)\n",
    "cv2.waitKey(0) "
   ]
  },
  {
   "cell_type": "markdown",
   "id": "7a4f0d1a",
   "metadata": {},
   "source": [
    "> Veja  que  a  função  ```resize```  utiliza  uma  propriedade  aqui  definida  com ```cv2.INTER_AREA``` que  é  uma  especificação  do  cálculo  matemático  para  redimensionar  a imagem. Apesar disso, caso a imagem seja redimensionada para um tamanho maior é preciso ponderar que ocorrerá perda de qualidade.  "
   ]
  },
  {
   "cell_type": "markdown",
   "id": "453a0ff2",
   "metadata": {},
   "source": [
    "### Espelhando uma imagem / Flip  "
   ]
  },
  {
   "cell_type": "markdown",
   "id": "10038018",
   "metadata": {},
   "source": [
    "> Para espelhar uma imagem, basta inverter suas linhas, suas colunas ou ambas.  \n",
    "* Invertendo as linhas: flip horizontal \n",
    "* Invertendo as colunas: flip vertical.\n",
    "    \n",
    "> Podemos fazer o espelhamento/flip tanto com uma função oferecida pela OpenCV (função flip) como através da manipulação direta das matrizes que compõe a imagem. "
   ]
  },
  {
   "cell_type": "code",
   "execution_count": 13,
   "id": "345a49ad",
   "metadata": {},
   "outputs": [
    {
     "data": {
      "text/plain": [
       "-1"
      ]
     },
     "execution_count": 13,
     "metadata": {},
     "output_type": "execute_result"
    }
   ],
   "source": [
    "img = cv2.imread('ponte.png')\n",
    "cv2.imshow(\"Original\", img) \n",
    "\n",
    "#flip_horizontal = img[::-1,:] #comando equivalente abaixo \n",
    "flip_horizontal = cv2.flip(img, 0)  \n",
    "cv2.imshow(\"Flip Horizontal\", flip_horizontal) \n",
    "\n",
    "#flip_vertical = img[:,::-1] #comando equivalente abaixo \n",
    "flip_vertical = cv2.flip(img, 1)  \n",
    "cv2.imshow(\"Flip Vertical\", flip_vertical) \n",
    "\n",
    "#flip_hv = img[::-1,::-1] #comando equivalente abaixo  \n",
    "flip_hv = cv2.flip(img, -1)\n",
    "cv2.imshow(\"Flip Horizontal e Vertical\", flip_hv)\n",
    "\n",
    "cv2.waitKey(0) "
   ]
  },
  {
   "cell_type": "markdown",
   "id": "a18d5fff",
   "metadata": {},
   "source": [
    "### Rotacionando uma imagem / Rotate"
   ]
  },
  {
   "cell_type": "markdown",
   "id": "3fdb5cf3",
   "metadata": {},
   "source": [
    "> A  transformação  ```affine```  ou  ```mapa  affine```,  é  uma  função  entre  espaços  affine  que preservam  os  pontos,  grossura  de linhas  e  planos.  Além  disso,  linhas  paralelas  permanecem paralelas após uma transformação affine. Essa transformação não necessariamente preserva a distância entre pontos mas ela preserva a proporção das distâncias entre os pontos de uma linha reta. Uma rotação é um tipo de transformação affine. "
   ]
  },
  {
   "cell_type": "code",
   "execution_count": 20,
   "id": "8c198404",
   "metadata": {},
   "outputs": [
    {
     "data": {
      "text/plain": [
       "-1"
      ]
     },
     "execution_count": 20,
     "metadata": {},
     "output_type": "execute_result"
    }
   ],
   "source": [
    "img = cv2.imread('ponte.png')\n",
    "\n",
    "(alt, lar) = img.shape[:2] #captura altura e largura \n",
    "centro = (lar // 2, alt // 2) #acha o centro  \n",
    "\n",
    "M = cv2.getRotationMatrix2D(centro, 30, 1.0)#30 graus \n",
    "img_rotacionada = cv2.warpAffine(img, M, (lar, alt))  \n",
    "\n",
    "cv2.imshow(\"Imagem rotacionada em 30 graus\", img_rotacionada) \n",
    "cv2.waitKey(0)\n",
    "  "
   ]
  },
  {
   "cell_type": "markdown",
   "id": "b5699cd1",
   "metadata": {},
   "source": [
    "### Sistemas de cores "
   ]
  },
  {
   "cell_type": "markdown",
   "id": "658b3c85",
   "metadata": {},
   "source": [
    "> Já  conhecemos  o  tradicional  espaço  de  cores  **RGB  (Red,  Green,  Blue)**  que  sabemos que  em  OpenCV  é  na  verdade  BGR  dada  a  necessidade  de  colocar  o  azul  como  primeiro elemento e o vermelho como terceiro elemento de uma tupla que compõe as cores de pixel.  \n",
    "\n",
    "> Contudo, existem outros espaços de cores como o próprio “Preto e Branco” ou “tons de cinza”, além de outros coloridos como o **L*a*b*** e o **HSV**. Abaixo temos um exemplo de como ficaria nossa imagem da ponte nos outros espaços de cores :"
   ]
  },
  {
   "cell_type": "code",
   "execution_count": 21,
   "id": "54d5948c",
   "metadata": {},
   "outputs": [
    {
     "data": {
      "text/plain": [
       "113"
      ]
     },
     "execution_count": 21,
     "metadata": {},
     "output_type": "execute_result"
    }
   ],
   "source": [
    "img = cv2.imread('ponte.png')\n",
    "\n",
    "cv2.imshow(\"Original\", img)\n",
    "\n",
    "gray = cv2.cvtColor(img, cv2.COLOR_BGR2GRAY)\n",
    "cv2.imshow(\"Gray\", gray)\n",
    "\n",
    "hsv = cv2.cvtColor(img, cv2.COLOR_BGR2HSV)\n",
    "cv2.imshow(\"HSV\", hsv)\n",
    "\n",
    "lab = cv2.cvtColor(img, cv2.COLOR_BGR2LAB)\n",
    "cv2.imshow(\"L*a*b*\", lab)\n",
    "\n",
    "cv2.waitKey(0) "
   ]
  },
  {
   "cell_type": "markdown",
   "id": "65787d28",
   "metadata": {},
   "source": [
    "> Como  já  sabemos  uma  imagem  colorida  no  formato  RGB  possui  3  canais,  um  para cada  cor.  \n",
    "\n",
    ">Existem  funções  do  OpenCV  que  permitem  separar  e  visualizar  esses  canais individualmente. Veja: \n",
    "\n",
    "> A função ```split``` faz o trabalho duro separando os canais. Assim podemos exibi-los em tons de cinza conforme mostra a imagem abaixo:"
   ]
  },
  {
   "cell_type": "code",
   "execution_count": 2,
   "id": "14f3d0c8",
   "metadata": {},
   "outputs": [
    {
     "data": {
      "text/plain": [
       "-1"
      ]
     },
     "execution_count": 2,
     "metadata": {},
     "output_type": "execute_result"
    }
   ],
   "source": [
    "img = cv2.imread('ponte.png')\n",
    "\n",
    "(canalAzul, canalVerde, canalVermelho) = cv2.split(img)\n",
    "\n",
    "cv2.imshow(\"Vermelho\", canalVermelho) \n",
    "cv2.imshow(\"Verde\", canalVerde) \n",
    "cv2.imshow(\"Azul\", canalAzul) \n",
    "\n",
    "cv2.waitKey(0) "
   ]
  },
  {
   "cell_type": "markdown",
   "id": "7f6a4ab8",
   "metadata": {},
   "source": [
    "> Também é possível alterar individualmente as Numpy Arrays que formam cada canal e depois juntá-las para criar novamente a imagem. Para isso use o comando: "
   ]
  },
  {
   "cell_type": "code",
   "execution_count": 5,
   "id": "bb679bdb",
   "metadata": {},
   "outputs": [
    {
     "data": {
      "text/plain": [
       "-1"
      ]
     },
     "execution_count": 5,
     "metadata": {},
     "output_type": "execute_result"
    }
   ],
   "source": [
    "resultado = cv2.merge([canalAzul, canalVerde, canalVermelho]) \n",
    "cv2.imshow(\"resultado\", resultado)\n",
    "cv2.waitKey(0) "
   ]
  },
  {
   "cell_type": "markdown",
   "id": "5e522766",
   "metadata": {},
   "source": [
    ">Também é possível exibir os canais nas cores originais conforme abaixo:  "
   ]
  },
  {
   "cell_type": "code",
   "execution_count": 12,
   "id": "d1b66da0",
   "metadata": {},
   "outputs": [
    {
     "data": {
      "text/plain": [
       "-1"
      ]
     },
     "execution_count": 12,
     "metadata": {},
     "output_type": "execute_result"
    }
   ],
   "source": [
    "img = cv2.imread('ponte.png')  \n",
    "\n",
    "(canalAzul, canalVerde, canalVermelho) = cv2.split(img)  \n",
    "zeros = np.zeros(img.shape[:2], dtype = \"uint8\")  \n",
    "\n",
    "cv2.imshow(\"Vermelho\", cv2.merge([zeros, zeros, canalVermelho]))  \n",
    "cv2.imshow(\"Verde\", cv2.merge([zeros, canalVerde, zeros])) \n",
    "cv2.imshow(\"Azul\", cv2.merge([canalAzul, zeros, zeros])) \n",
    "\n",
    "cv2.imshow(\"Original\", img) \n",
    "cv2.waitKey(0) "
   ]
  },
  {
   "cell_type": "markdown",
   "id": "8a6e84ef",
   "metadata": {},
   "source": [
    "### Histogramas e equalização de imagem"
   ]
  },
  {
   "cell_type": "markdown",
   "id": "83a883bc",
   "metadata": {},
   "source": [
    "> Um histograma é um gráfico de colunas ou de linhas que representa a distribuição dos valores dos pixels de uma imagem, ou seja, a quantidade de pixeis mais claros (próximos de 255) e a quantidade de pixels mais escuros (próximos de 0). O eixo X do gráfico normalmente possui uma distribuição de 0 a 255 que demonstra o valor (intensidade) do pixel e no eixo Y é plotada a quantidade de pixels daquela intensidade."
   ]
  },
  {
   "cell_type": "code",
   "execution_count": 3,
   "id": "bfdab651",
   "metadata": {},
   "outputs": [
    {
     "data": {
      "image/png": "[encoded data removed]",
      "text/plain": [
       "<Figure size 432x288 with 1 Axes>"
      ]
     },
     "metadata": {
      "needs_background": "light"
     },
     "output_type": "display_data"
    },
    {
     "data": {
      "text/plain": [
       "-1"
      ]
     },
     "execution_count": 3,
     "metadata": {},
     "output_type": "execute_result"
    }
   ],
   "source": [
    "img = cv2.imread('ponte.png')  \n",
    "\n",
    "img = cv2.cvtColor(img, cv2.COLOR_BGR2GRAY) #converte P&B \n",
    "cv2.imshow(\"Imagem P&B\", img) \n",
    "\n",
    "#Função calcHist para calcular o histograma da imagem \n",
    "h = cv2.calcHist([img], [0], None, [256], [0, 256]) \n",
    "\n",
    "plt.figure() \n",
    "plt.title(\"Histograma P&B\") \n",
    "plt.xlabel(\"Intensidade\") \n",
    "plt.ylabel(\"Qtde de Pixels\") \n",
    "plt.plot(h) \n",
    "plt.xlim([0, 256]) \n",
    "plt.show() \n",
    "cv2.waitKey(0)  "
   ]
  },
  {
   "cell_type": "markdown",
   "id": "b9e7cb75",
   "metadata": {},
   "source": [
    "> Perceba  que  no  histograma  existe  um  pico  ao  centro  do  gráfico,  entre  100  e  150,  demonstrando  a  grande  quantidade  de  pixels  nessa  faixa  devido  a  estrada  que  ocupa  grande parte da imagem possui pixels nessa faixa."
   ]
  },
  {
   "cell_type": "markdown",
   "id": "33be6e11",
   "metadata": {},
   "source": [
    "> Também  é  possível  plotar  o  histograma  de  outra  forma,  com  a  ajuda  da  função ‘ravel()’. Neste caso o eixo X avança o valor 255 indo até 300, espaço que não existem pixels.  "
   ]
  },
  {
   "cell_type": "code",
   "execution_count": 5,
   "id": "2ef8f4e6",
   "metadata": {},
   "outputs": [
    {
     "data": {
      "image/png": "[encoded data removed]",
      "text/plain": [
       "<Figure size 432x288 with 1 Axes>"
      ]
     },
     "metadata": {
      "needs_background": "light"
     },
     "output_type": "display_data"
    }
   ],
   "source": [
    "plt.hist(img.ravel(),256,[0,256]) \n",
    "plt.show() "
   ]
  },
  {
   "cell_type": "markdown",
   "id": "14076ee5",
   "metadata": {},
   "source": [
    "> Além do histograma da imagem em tons de cinza é possível plotar um histograma da imagem colorida. Neste caso teremos três linhas, uma para cada canal. \n",
    "\n",
    "> Importante notar que a função ```zip``` cria uma lista de tuplas formada  pelas  união das  listas  passadas  e  não  tem  nada  a  ver  com  um  processo  de  compactação  como  poderia  se esperar"
   ]
  },
  {
   "cell_type": "code",
   "execution_count": 15,
   "id": "c64e5e6d",
   "metadata": {},
   "outputs": [
    {
     "data": {
      "image/png": "[encoded data removed]",
      "text/plain": [
       "<Figure size 432x288 with 1 Axes>"
      ]
     },
     "metadata": {
      "needs_background": "light"
     },
     "output_type": "display_data"
    }
   ],
   "source": [
    "img = cv2.imread('ponte.png')  \n",
    "\n",
    "#cv2.imshow(\"Imagem Colorida\", img)\n",
    "#cv2.waitKey(0)  \n",
    "\n",
    "#Separa os canais\n",
    "canais = cv2.split(img)\n",
    "cores = (\"b\", \"g\", \"r\")\n",
    "\n",
    "plt.figure()\n",
    "plt.title(\"'Histograma Colorido\")\n",
    "plt.xlabel(\"Intensidade\")\n",
    "plt.ylabel(\"Número de Pixels\")\n",
    "\n",
    "\n",
    "for (canal, cor) in zip(canais, cores):\n",
    "    #Este loop executa 3 vezes, uma para cada canal\n",
    "    hist = cv2.calcHist([canal], [0], None, [256], [0, 256])\n",
    "   \n",
    "    plt.plot(hist, cor)\n",
    "    \n",
    "plt.xlim([0, 256])\n",
    "plt.show() "
   ]
  },
  {
   "cell_type": "markdown",
   "id": "e15cf754",
   "metadata": {},
   "source": [
    "### Equalização de Histograma "
   ]
  },
  {
   "cell_type": "markdown",
   "id": "b0059bc4",
   "metadata": {},
   "source": [
    "> É possível realizar um cálculo matemático sobre a distribuição de pixels para aumentar o contraste da imagem. A intenção neste caso é distribuir de forma mais uniforme as intensidades dos pixels sobre a imagem. No histograma é possível identificar a diferença pois o acumulo de pixels próximo a alguns valores é suavizado. Veja a diferença entre o histograma original e o equalizado abaixo:\n"
   ]
  },
  {
   "cell_type": "code",
   "execution_count": 16,
   "id": "e1acfd0f",
   "metadata": {},
   "outputs": [
    {
     "data": {
      "image/png": "[encoded data removed]",
      "text/plain": [
       "<Figure size 432x288 with 1 Axes>"
      ]
     },
     "metadata": {
      "needs_background": "light"
     },
     "output_type": "display_data"
    },
    {
     "data": {
      "image/png": "[encoded data removed]",
      "text/plain": [
       "<Figure size 432x288 with 1 Axes>"
      ]
     },
     "metadata": {
      "needs_background": "light"
     },
     "output_type": "display_data"
    },
    {
     "data": {
      "text/plain": [
       "-1"
      ]
     },
     "execution_count": 16,
     "metadata": {},
     "output_type": "execute_result"
    }
   ],
   "source": [
    "img = cv2.imread('ponte.png')  \n",
    "\n",
    "img = cv2.cvtColor(img, cv2.COLOR_BGR2GRAY)\n",
    "h_eq = cv2.equalizeHist(img)\n",
    "\n",
    "plt.figure()\n",
    "plt.title(\"Histograma Equalizado\")\n",
    "plt.xlabel(\"Intensidade\")\n",
    "plt.ylabel(\"Qtde de Pixels\")\n",
    "plt.hist(h_eq.ravel(), 256, [0,256])\n",
    "\n",
    "plt.xlim([0, 256])\n",
    "plt.show()\n",
    "plt.figure()\n",
    "\n",
    "plt.title(\"Histograma Original\")\n",
    "plt.xlabel(\"Intensidade\")\n",
    "plt.ylabel(\"Qtde de Pixels\")\n",
    "plt.hist(img.ravel(), 256, [0,256])\n",
    "plt.xlim([0, 256])\n",
    "plt.show()\n",
    "\n",
    "cv2.waitKey(0) "
   ]
  },
  {
   "cell_type": "markdown",
   "id": "dec005bf",
   "metadata": {},
   "source": [
    "### Suavização de imagens"
   ]
  },
  {
   "cell_type": "markdown",
   "id": "41e51dde",
   "metadata": {},
   "source": [
    "> A  suavização  da  imagem  (do  inglês  Smoothing),  também  chamada  de  ‘blur’  ou ‘blurring’ que podemos traduzir para “borrão”, é um efeito que podemos notar nas fotografias fora de foco ou desfocadas onde tudo fica embasado. \n",
    "\n",
    "> Na  verdade  esse  efeito  pode  ser  criado  digitalmente,  basta  alterar  a  cor  de  cada  pixel misturando  a  cor  com  os  pixels  ao  seu  redor.  Esse  efeito  é  muito  útil  quando  utilizamos algoritmos  de  identificação  de  objetos  em  imagens  pois  os  processos  de  detecção  de  bordas por exemplo, funcionam melhor depois de aplicar uma suavização na imagem."
   ]
  },
  {
   "cell_type": "markdown",
   "id": "7a7385ae",
   "metadata": {},
   "source": [
    "### Suavização por cálculo da média"
   ]
  },
  {
   "cell_type": "markdown",
   "id": "c22efbe0",
   "metadata": {},
   "source": [
    "> Neste caso é criada uma “máscara para envolver o pixel em questão e calcular seu novo valor. O novo valor do pixel será a média simples dos valores dos pixels dentro da máscara,  ou  seja,  dos  pixels  da  vizinhança.  Alguns  autores  chamam  esta  máscara  de  janela  de cálculo ou kernel (do inglês núcleo)."
   ]
  },
  {
   "cell_type": "markdown",
   "id": "94ae10b7",
   "metadata": {},
   "source": [
    "> Portanto o novo valor do pixel será a média da sua vizinhança o que gera a suavização na imagem como um todo.  No código abaixo percebemos que o método utilizado para a suavização pela média é o  método  ```blur```  da  OpenCV.  Os  parâmetros  são  a  imagem  a  ser  suavizada  e  a  janela  de suavização. Colocarmos números impars para gerar as caixas de cálculo pois dessa forma não existe dúvida sobre onde estará o pixel central que terá seu valor atualizado.  Perceba que usamos as funções ```vstack``` (pilha vertical) e ```hstack``` (pilha horizontal) para juntar as imagens em uma única imagem final mostrando desde a imagem original e seguinte com caixas de calculo de 3x3, 5x5, 7x7, 9x9 e 11x11. Perceba que conforme aumenta a caixa maior é o efeito de borrão (blur) na imagem.  "
   ]
  },
  {
   "cell_type": "code",
   "execution_count": 18,
   "id": "bc9cad5e",
   "metadata": {},
   "outputs": [
    {
     "data": {
      "text/plain": [
       "-1"
      ]
     },
     "execution_count": 18,
     "metadata": {},
     "output_type": "execute_result"
    }
   ],
   "source": [
    "img = cv2.imread('ponte.png') \n",
    "\n",
    "img = img[::2,::2] # Diminui a imagem  \n",
    "suave = np.vstack([\n",
    "    np.hstack([img,cv2.blur(img, ( 3,  3))]),\n",
    "    np.hstack([cv2.blur(img, (5,5)), cv2.blur(img, ( 7,  7))]),\n",
    "    np.hstack([cv2.blur(img, (9,9)), cv2.blur(img, (11, 11))]),])  \n",
    "\n",
    "cv2.imshow(\"Imagens suavisadas (Blur)\", suave) \n",
    "cv2.waitKey(0)  "
   ]
  },
  {
   "cell_type": "markdown",
   "id": "3e3b0e85",
   "metadata": {},
   "source": [
    "### Suavização pela mediana"
   ]
  },
  {
   "cell_type": "markdown",
   "id": "ca161681",
   "metadata": {},
   "source": [
    "> Da  mesma  forma  que  os  cálculos  anteriores,  aqui  temos  o  cálculo  de  uma  caixa  ou  janela  quadrada  sobre  um  pixel  central  onde  matematicamente  se  utiliza  a  mediana  para calcular o valor final do pixel. A mediana é semelhante à média, mas ela despreza os valores muito altos ou muito baixos que podem distorcer o resultado. \n",
    "\n",
    "> A mediana é o número que fica exatamente no meio do intervalo. A  função  utilizada  é  a  cv2.medianBlur(img,  3)  e  o  único  argumento  é  o  tamanho  da caixa ou janela usada. \n",
    "\n",
    "> É importante notar que este método não cria novas cores, como pode acontecer com os anteriores, pois ele sempre altera a cor do pixel atual com um dos valores da vizinhança. "
   ]
  },
  {
   "cell_type": "code",
   "execution_count": 19,
   "id": "a023404f",
   "metadata": {},
   "outputs": [
    {
     "data": {
      "text/plain": [
       "-1"
      ]
     },
     "execution_count": 19,
     "metadata": {},
     "output_type": "execute_result"
    }
   ],
   "source": [
    "img = cv2.imread('ponte.png')\n",
    "\n",
    "img = img[::2,::2] # Diminui a imagem\n",
    "suave = np.vstack([\n",
    "    np.hstack([img,cv2.medianBlur(img,  3)]),\n",
    "    np.hstack([cv2.medianBlur(img,  5), cv2.medianBlur(img,  7)]),\n",
    "    np.hstack([cv2.medianBlur(img,  9), cv2.medianBlur(img, 11)]),\n",
    "])\n",
    "\n",
    "cv2.imshow(\"Imagem original e suavizadas pela mediana\", suave)\n",
    "cv2.waitKey(0) "
   ]
  },
  {
   "cell_type": "markdown",
   "id": "0dfc4ce2",
   "metadata": {},
   "source": [
    "### Suavização com filtro bilateral  "
   ]
  },
  {
   "cell_type": "markdown",
   "id": "25597c18",
   "metadata": {},
   "source": [
    "> Este  método  é  mais  lento  para calcular  que os  anteriores  mas  como  vantagem apresenta a preservação de bordas e garante que o ruído seja removido.  \n",
    "\n",
    "> Para  realizar  essa  tarefa,  além  de  um  filtro  gaussiano  do  espaço  ao  redor  do  pixel também é utilizado outro cálculo com outro filtro gaussiano que leva em conta a diferença de intensidade  entre  os  pixels,  dessa  forma,  como  resultado  temos  uma  maior  manutenção  das bordas das imagem. A função usada é cv2.bilateralFilter() e o código usado segue abaixo: "
   ]
  },
  {
   "cell_type": "code",
   "execution_count": 20,
   "id": "9e37f882",
   "metadata": {},
   "outputs": [
    {
     "data": {
      "text/plain": [
       "-1"
      ]
     },
     "execution_count": 20,
     "metadata": {},
     "output_type": "execute_result"
    }
   ],
   "source": [
    "img = cv2.imread('ponte.png')\n",
    "\n",
    "img = img[::2,::2] # Diminui a imagem\n",
    "suave = np.vstack([\n",
    "    np.hstack([img, cv2.bilateralFilter(img,  3, 21, 21)]),\n",
    "    np.hstack([cv2.bilateralFilter(img,  5, 35, 35), cv2.bilateralFilter(img,  7, 49, 49)]),\n",
    "    np.hstack([cv2.bilateralFilter(img,  9, 63, 63),cv2.bilateralFilter(img, 11, 77, 77)])\n",
    "]) \n",
    "\n",
    "cv2.imshow(\"Imagem original e suavizadas com filtro bilateral\", suave)\n",
    "cv2.waitKey(0) "
   ]
  },
  {
   "cell_type": "markdown",
   "id": "e5aff243",
   "metadata": {},
   "source": [
    "### Binarização com limiar"
   ]
  },
  {
   "cell_type": "markdown",
   "id": "f35ba392",
   "metadata": {},
   "source": [
    "> Thresholding  pode  ser  traduzido  por  limiarização  e  no  caso  de  processamento  de imagens  na  maior  parte  das  vezes  utilizamos  para  binarização  da  imagem.  \n",
    "\n",
    "> Normalmente convertemos  imagens  em  tons  de  cinza  para  imagens  preto  e  branco  onde  todos  os  pixels possuem 0 ou 255 como valores de intensidade.  "
   ]
  },
  {
   "cell_type": "code",
   "execution_count": 25,
   "id": "9b55568e",
   "metadata": {},
   "outputs": [
    {
     "data": {
      "text/plain": [
       "-1"
      ]
     },
     "execution_count": 25,
     "metadata": {},
     "output_type": "execute_result"
    }
   ],
   "source": [
    "img = cv2.imread('ponte.png') \n",
    "\n",
    "img = cv2.cvtColor(img, cv2.COLOR_BGR2GRAY)  \n",
    "suave = cv2.GaussianBlur(img, (7, 7), 0) # aplica blur  \n",
    "\n",
    "(T, bin) = cv2.threshold(suave, 160, 255, cv2.THRESH_BINARY) \n",
    "(T, binI) = cv2.threshold(suave, 160, 255, cv2.THRESH_BINARY_INV) \n",
    "\n",
    "resultado = np.vstack([\n",
    "    np.hstack([suave, bin]),  \n",
    "    np.hstack([binI, cv2.bitwise_and(img, img, mask = binI)])  \n",
    "])   \n",
    "\n",
    "cv2.imshow(\"Binarizacao da imagem\", resultado) \n",
    "cv2.waitKey(0) "
   ]
  },
  {
   "cell_type": "markdown",
   "id": "79ad2128",
   "metadata": {},
   "source": [
    "### Threshold adaptativo  "
   ]
  },
  {
   "cell_type": "markdown",
   "id": "777c848c",
   "metadata": {},
   "source": [
    "> O valor de intensidade 160 utilizada para a binarização acima foi arbitrado, contudo, é possível otimizar esse valor matematicamente. Esta é a proposta do threshold adaptativo.  \n",
    "\n",
    "> Para isso precisamos dar um valor da janela ou caixa de cálculo para que o limiar seja calculado nos pixels próximos das imagem. Outro parâmetro é um inteiro que é subtraído da média calculada dentro da caixa para gerar o threshold final."
   ]
  },
  {
   "cell_type": "code",
   "execution_count": 2,
   "id": "015a0966",
   "metadata": {},
   "outputs": [
    {
     "data": {
      "text/plain": [
       "-1"
      ]
     },
     "execution_count": 2,
     "metadata": {},
     "output_type": "execute_result"
    }
   ],
   "source": [
    "img = cv2.imread('ponte.png') \n",
    "\n",
    "# Imagem tons de cinza\n",
    "img = cv2.cvtColor(img, cv2.COLOR_BGR2GRAY)\n",
    "# Imagem suavizada\n",
    "suave = cv2.GaussianBlur(img, (7, 7), 0)  \n",
    "# Imagem binarizada pela média\n",
    "bin1 = cv2.adaptiveThreshold(suave, 255,  cv2.ADAPTIVE_THRESH_MEAN_C, cv2.THRESH_BINARY_INV, 21, 5)\n",
    "# Imagem binarizada com Gauss.\n",
    "bin2 = cv2.adaptiveThreshold(suave, 255,  cv2.ADAPTIVE_THRESH_GAUSSIAN_C, cv2.THRESH_BINARY_INV, 21, 5) \n",
    "\n",
    "resultado = np.vstack([  \n",
    "    np.hstack([img, suave]),  \n",
    "    np.hstack([bin1, bin2])  \n",
    "])   \n",
    "\n",
    "cv2.imshow(\"Binarização adaptativa da imagem\", resultado) \n",
    "cv2.waitKey(0)  "
   ]
  },
  {
   "cell_type": "markdown",
   "id": "32cc4f0f",
   "metadata": {},
   "source": [
    "### Threshold com Otsu e Riddler-Calvard"
   ]
  },
  {
   "cell_type": "markdown",
   "id": "364c8fc7",
   "metadata": {},
   "source": [
    "> Outro método que automaticamente encontra um threshold para a imagem é o método de Otsu. Neste caso ele analiza o histograma da imagem para encontrar os dois maiores picos de intensidades, então ele calcula um valor para separar da melhor forma esses dois picos."
   ]
  },
  {
   "cell_type": "code",
   "execution_count": 4,
   "id": "ab1281a2",
   "metadata": {},
   "outputs": [
    {
     "data": {
      "text/plain": [
       "-1"
      ]
     },
     "execution_count": 4,
     "metadata": {},
     "output_type": "execute_result"
    }
   ],
   "source": [
    "img = cv2.imread('ponte.png') \n",
    "img = cv2.cvtColor(img, cv2.COLOR_BGR2GRAY) # converte  \n",
    "suave = cv2.GaussianBlur(img, (7, 7), 0) # aplica blur  \n",
    "T = mahotas.thresholding.otsu(suave) \n",
    "temp = img.copy() \n",
    "temp[temp > T] = 255 \n",
    "temp[temp < 255] = 0 \n",
    "temp = cv2.bitwise_not(temp) \n",
    "T = mahotas.thresholding.rc(suave) \n",
    "temp2 = img.copy() \n",
    "temp2[temp2 > T] = 255 \n",
    "temp2[temp2 < 255] = 0 \n",
    "temp2 = cv2.bitwise_not(temp2) \n",
    "resultado = np.vstack([  np.hstack([img, suave]),  np.hstack([temp, temp2])  ])  \n",
    "cv2.imshow(\"Binarização com método Otsu e Riddler-Calvard\", resultado) \n",
    "cv2.waitKey(0) "
   ]
  },
  {
   "cell_type": "markdown",
   "id": "1ea52eb9",
   "metadata": {},
   "source": [
    "### Segmentação e métodos de detecção de bordas"
   ]
  },
  {
   "cell_type": "markdown",
   "id": "27e6cc38",
   "metadata": {},
   "source": [
    "> Uma  das  tarefas  mais  importantes  para  a  visão  computacional  é  identificar  objetos. Para essa identificação uma das principais técnicas é a utilização de detectores de bordas a fim de identificar os formatos dos objetos presentes na imagem. \n",
    "\n",
    "> Quando falamos em segmentação e detecção de bordas, os algoritmos mais comuns são o **Canny**, **Sobel** e variações destes. \n",
    "\n",
    "> Basicamente nestes e em outros métodos a detecção de bordas se faz através de **identificação do gradiente**, ou, neste caso, de variações abruptas na intensidade dos pixels de uma região da imagem. A OpenCV disponibiliza a implementação de 3 filtros de gradiente (High-pass filters): **Sobel**, **Scharr** e **Laplacian**. As respectivas funções são: ```cv2.Sobel()```, ```cv2.Scharr()```, ```cv2.Laplacian()```."
   ]
  },
  {
   "cell_type": "markdown",
   "id": "7dc6a3b2",
   "metadata": {},
   "source": [
    "### Sobel  "
   ]
  },
  {
   "cell_type": "markdown",
   "id": "609d5392",
   "metadata": {},
   "source": [
    "> Não entraremos na explicação matemática de cada método mas é importante notar que o  Sobel  é  direcional,  então  temos  que  juntar  o  filtro  horizontal  e  o  vertical  para  ter  uma\n",
    "transformação completa, veja: \n",
    "\n",
    "> Note  que  devido  ao  processamento  do  Sobel  é  preciso  trabalhar  com  a  imagem  com ponto  flutuante  de  64  bits  (que  suporta  valores  positivos  e  negativos)  para  depois  converter\n",
    "para uint8 novamente."
   ]
  },
  {
   "cell_type": "code",
   "execution_count": 5,
   "id": "2ffce791",
   "metadata": {},
   "outputs": [
    {
     "data": {
      "text/plain": [
       "-1"
      ]
     },
     "execution_count": 5,
     "metadata": {},
     "output_type": "execute_result"
    }
   ],
   "source": [
    "img = cv2.imread('ponte.png') \n",
    "\n",
    "img = cv2.cvtColor(img, cv2.COLOR_BGR2GRAY)  \n",
    "sobelX = cv2.Sobel(img, cv2.CV_64F, 1, 0) \n",
    "sobelY = cv2.Sobel(img, cv2.CV_64F, 0, 1) \n",
    "sobelX = np.uint8(np.absolute(sobelX)) \n",
    "sobelY = np.uint8(np.absolute(sobelY)) \n",
    "sobel = cv2.bitwise_or(sobelX, sobelY)  \n",
    "\n",
    "resultado = np.vstack([  \n",
    "    np.hstack([img, sobelX]),  \n",
    "    np.hstack([sobelY, sobel])  \n",
    "]) \n",
    "\n",
    "cv2.imshow(\"Sobel\", resultado) \n",
    "cv2.waitKey(0) "
   ]
  },
  {
   "cell_type": "markdown",
   "id": "f029196b",
   "metadata": {},
   "source": [
    "### Filtro Laplaciano"
   ]
  },
  {
   "cell_type": "markdown",
   "id": "b924267a",
   "metadata": {},
   "source": [
    "> O  **filtro  Laplaciano**  não  exige  processamento  individual  horizontal  e  vertical  como  o Sobel.  Um  único  passo  é  necessário  para  gerar  a  imagem  abaixo.  Contudo,  também  é necessário trabalhar com a representação do pixel em ponto flutuant de 64 bits com sinal para depois converter novamente para inteiro sem sinal de 8 bits. "
   ]
  },
  {
   "cell_type": "code",
   "execution_count": 6,
   "id": "8d8e6541",
   "metadata": {},
   "outputs": [
    {
     "data": {
      "text/plain": [
       "-1"
      ]
     },
     "execution_count": 6,
     "metadata": {},
     "output_type": "execute_result"
    }
   ],
   "source": [
    "img = cv2.imread('ponte.png') \n",
    "\n",
    "img = cv2.cvtColor(img, cv2.COLOR_BGR2GRAY) \n",
    "lap = cv2.Laplacian(img, cv2.CV_64F) \n",
    "lap = np.uint8(np.absolute(lap)) \n",
    "\n",
    "resultado = np.vstack([img, lap])  \n",
    "\n",
    "cv2.imshow(\"Filtro Laplaciano\", resultado) \n",
    "cv2.waitKey(0) "
   ]
  },
  {
   "cell_type": "markdown",
   "id": "d65ffba1",
   "metadata": {},
   "source": [
    "### Detector de bordas Canny "
   ]
  },
  {
   "cell_type": "markdown",
   "id": "b579eee6",
   "metadata": {},
   "source": [
    "> O ***canny*** utiliza  de  outras  técnicas  como  o  Sobel  e  realiza  multiplos  passos  para  chegar  ao resultado final.  \n",
    "> Basicamente o Canny envolve: \n",
    "\n",
    "           1. Aplicar um filtro gaussiano para suavizar a imagem e remover o ruído. \n",
    "\n",
    "           2. Encontrar os gradientes de intensidade da imagem. \n",
    "\n",
    "           3. Aplicar Sobel duplo para determinar bordas potenciais. \n",
    "\n",
    "           4. Aplicar o processo de “hysteresis” para verificar se o pixel faz parte de uma borda  “forte”  suprimindo todas as outras bordas que são fracas e não conectadas a bordas fortes.  \n",
    "\n",
    "> É preciso fornecer dois parâmetros para a função  ```cv2.Canny()```. Esses dois valores são o  limiar  1  e  limiar  2  e são utilizados no processo de “hysteresis” final.  Qualquer  gradiente com valor maior que o limiar 2 é considerado como borda. Qualquer valor inferior ao limiar 1 não é considerado borda. Valores entre o limiar 1 e limiar 2 são classificados como bordas ou  não bordas com base em como eles estão conectados.  "
   ]
  },
  {
   "cell_type": "code",
   "execution_count": 7,
   "id": "d8ca7432",
   "metadata": {},
   "outputs": [
    {
     "data": {
      "text/plain": [
       "-1"
      ]
     },
     "execution_count": 7,
     "metadata": {},
     "output_type": "execute_result"
    }
   ],
   "source": [
    "img = cv2.imread('ponte.png') \n",
    "\n",
    "img = cv2.cvtColor(img, cv2.COLOR_BGR2GRAY) \n",
    "suave = cv2.GaussianBlur(img, (7, 7), 0)  \n",
    "canny1 = cv2.Canny(suave, 20, 120) \n",
    "canny2 = cv2.Canny(suave, 70, 200) \n",
    "\n",
    "resultado = np.vstack([ \n",
    "    np.hstack([img, suave ]),  \n",
    "    np.hstack([canny1, canny2])  \n",
    "])  \n",
    "\n",
    "cv2.imshow(\"Detector de Bordas Canny\", resultado) \n",
    "cv2.waitKey(0)"
   ]
  },
  {
   "cell_type": "markdown",
   "id": "6262ad47",
   "metadata": {},
   "source": [
    "### Identificando e contando objetos"
   ]
  },
  {
   "cell_type": "markdown",
   "id": "e231974f",
   "metadata": {},
   "source": [
    "> Para isso precisamos identificar:\n",
    "\n",
    "        1. Onde estão os dados na imagem.\n",
    "        2. Quantos dados foram jogados.\n",
    "        3. Qual é o lado que esta para cima.\n",
    "        \n",
    "> Inicialmente vamos identificar os dados e contar quantos dados existem na imagem, em um segundo momento iremos identificar quais são esses dados. A imagem que temos esta abaixo. Não é uma imagem fácil pois além dos dados serem vermelhos e terem um contraste menor que dados brancos sobre uma mesa preta, por exemplo, eles ainda estão sobre uma superfície  branca  com  ranhuras,  ou  seja,  não  é  uma  superfície  uniforme.  Isso  irá  dificultar nosso trabalho. "
   ]
  },
  {
   "cell_type": "markdown",
   "id": "604fd3a2",
   "metadata": {},
   "source": [
    "> Os passos mostrados na sequência de imagens abaixo são:\n",
    "\n",
    "        1. Convertemos a imagem para tons de cinza.\n",
    "        2. Aplicamos blur para retirar o ruído e facilitar a identificação das bordas.\n",
    "        3. Aplicamos uma binarização na imagem resultando em pixels só brancos e pretos.\n",
    "        4. Aplicamos um detector de bordas para identificar os objetos.\n",
    "        5. Com as bordas identificadas, vamos contar os contornos externos para achar a\n",
    "        quantidade de dados presentes na imagem."
   ]
  },
  {
   "cell_type": "code",
   "execution_count": 9,
   "id": "3052d978",
   "metadata": {},
   "outputs": [],
   "source": [
    "#Função para facilitar a escrita nas imagem \n",
    "def escreve(img, texto, cor=(255,0,0)):\n",
    "    fonte = cv2.FONT_HERSHEY_SIMPLEX \n",
    "    cv2.putText(img, texto, (10,20), fonte, 0.5, cor, 0, cv2.LINE_AA)\n",
    "    \n",
    "    imgColorida = cv2.imread('dados.png') #Carregamento da imagem  \n",
    "    \n",
    "    #Se necessário o redimensioamento da imagem pode vir aqui.\n",
    "    #Passo 1: Conversão para tons de cinza \n",
    "    img = cv2.cvtColor(imgColorida, cv2.COLOR_BGR2GRAY)  \n",
    "    #Passo 2: Blur/Suavização da imagem \n",
    "    suave = cv2.blur(img, (7, 7))  \n",
    "    #Passo 3: Binarização resultando em pixels brancos e pretos \n",
    "    T = mahotas.thresholding.otsu(suave) \n",
    "    bin = suave.copy() \n",
    "    bin[bin > T] = 255 \n",
    "    bin[bin < 255] = 0 \n",
    "    bin = cv2.bitwise_not(bin)  \n",
    "    #Passo 4: Detecção de bordas com Canny \n",
    "    bordas = cv2.Canny(bin, 70, 150)  \n",
    "    #Passo 5: Identificação e contagem dos contornos da imagem \n",
    "    #cv2.RETR_EXTERNAL = conta apenas os contornos externos \n",
    "    (lx, objetos, lx) = cv2.findContours(bordas.copy(),cv2.RETR_EXTERNAL, cv2.CHAIN_APPROX_SIMPLE) #A variável lx (lixo) recebe dados que não são utilizados\n",
    "    \n",
    "    print(img, \"Imagem em tons de cinza\", 0) \n",
    "    print(suave, \"Suavizacao com Blur\", 0) \n",
    "    print(bin, \"Binarizacao com Metodo Otsu\", 255) \n",
    "    print(bordas, \"Detector de bordas Canny\", 255)\n",
    "    \n",
    "    temp = np.vstack([  \n",
    "        np.hstack([img, suave]),   \n",
    "        np.hstack([bin, bordas])   \n",
    "    ])  \n",
    "    \n",
    "    cv2.imshow(\"Quantidade de objetos: \"+str(len(objetos)), temp) \n",
    "    cv2.waitKey(0)\n",
    "    \n",
    "    imgC2 = imgColorida.copy() \n",
    "    cv2.imshow(\"Imagem Original\", imgColorida)\n",
    "    \n",
    "    cv2.drawContours(imgC2, objetos, -1, (255, 0, 0), 2) \n",
    "    print(imgC2, str(len(objetos))+\" objetos encontrados!\") \n",
    "    cv2.imshow(\"Resultado\", imgC2) \n",
    "    cv2.waitKey(0) "
   ]
  },
  {
   "cell_type": "code",
   "execution_count": 13,
   "id": "a4a6fb52",
   "metadata": {},
   "outputs": [
    {
     "name": "stdout",
     "output_type": "stream",
     "text": [
      "[[255 255 255 ... 255 255 255]\n",
      " [255 255 255 ... 255 255 255]\n",
      " [169 167 164 ... 166 200 255]\n",
      " ...\n",
      " [209 209 208 ... 217 231 255]\n",
      " [209 209 208 ... 217 232 255]\n",
      " [209 209 209 ... 219 232 255]] Imagem em tons de cinza 0\n",
      "[[181 181 181 ... 200 200 200]\n",
      " [181 181 181 ... 200 200 200]\n",
      " [170 170 170 ... 191 191 191]\n",
      " ...\n",
      " [209 209 209 ... 226 226 226]\n",
      " [209 209 208 ... 226 226 226]\n",
      " [209 209 208 ... 226 226 227]] Suavizacao com Blur 0\n",
      "[[0 0 0 ... 0 0 0]\n",
      " [0 0 0 ... 0 0 0]\n",
      " [0 0 0 ... 0 0 0]\n",
      " ...\n",
      " [0 0 0 ... 0 0 0]\n",
      " [0 0 0 ... 0 0 0]\n",
      " [0 0 0 ... 0 0 0]] Binarizacao com Metodo Otsu 255\n",
      "[[  0   0   0 ...   0   0   0]\n",
      " [  0   0   0 ...   0   0   0]\n",
      " [255 255 255 ...   0   0   0]\n",
      " ...\n",
      " [  0   0   0 ...   0   0   0]\n",
      " [  0   0   0 ...   0   0   0]\n",
      " [  0   0   0 ...   0   0   0]] Detector de bordas Canny 255\n",
      "[[[255 255 255]\n",
      "  [255 255 255]\n",
      "  [255 255 255]\n",
      "  ...\n",
      "  [255 255 255]\n",
      "  [255 255 255]\n",
      "  [255 255 255]]\n",
      "\n",
      " [[255   0   0]\n",
      "  [255   0   0]\n",
      "  [255   0   0]\n",
      "  ...\n",
      "  [255 255 255]\n",
      "  [255 255 255]\n",
      "  [255 255 255]]\n",
      "\n",
      " [[255   0   0]\n",
      "  [255   0   0]\n",
      "  [255   0   0]\n",
      "  ...\n",
      "  [255   0   0]\n",
      "  [255   0   0]\n",
      "  [255   0   0]]\n",
      "\n",
      " ...\n",
      "\n",
      " [[202 198 233]\n",
      "  [202 198 233]\n",
      "  [201 197 232]\n",
      "  ...\n",
      "  [206 206 244]\n",
      "  [224 224 248]\n",
      "  [255 255 255]]\n",
      "\n",
      " [[202 198 233]\n",
      "  [202 198 233]\n",
      "  [201 197 232]\n",
      "  ...\n",
      "  [206 206 244]\n",
      "  [225 225 249]\n",
      "  [255 255 255]]\n",
      "\n",
      " [[202 198 234]\n",
      "  [202 198 234]\n",
      "  [202 198 234]\n",
      "  ...\n",
      "  [211 206 246]\n",
      "  [228 224 250]\n",
      "  [255 255 255]]] 25 objetos encontrados!\n"
     ]
    },
    {
     "data": {
      "text/plain": [
       "-1"
      ]
     },
     "execution_count": 13,
     "metadata": {},
     "output_type": "execute_result"
    }
   ],
   "source": [
    "fonte = cv2.FONT_HERSHEY_SIMPLEX \n",
    "cv2.putText(img, \"teste\", (10,20), fonte, 0.5, (255,0,0), 0, cv2.LINE_AA)\n",
    "\n",
    "imgColorida = cv2.imread('dados.png') #Carregamento da imagem  \n",
    "\n",
    "#Se necessário o redimensioamento da imagem pode vir aqui.\n",
    "#Passo 1: Conversão para tons de cinza \n",
    "img = cv2.cvtColor(imgColorida, cv2.COLOR_BGR2GRAY)  \n",
    "#Passo 2: Blur/Suavização da imagem \n",
    "suave = cv2.blur(img, (7, 7))  \n",
    "#Passo 3: Binarização resultando em pixels brancos e pretos \n",
    "T = mahotas.thresholding.otsu(suave) \n",
    "bin = suave.copy() \n",
    "bin[bin > T] = 255 \n",
    "bin[bin < 255] = 0 \n",
    "bin = cv2.bitwise_not(bin)  \n",
    "#Passo 4: Detecção de bordas com Canny \n",
    "bordas = cv2.Canny(bin, 70, 150)  \n",
    "#Passo 5: Identificação e contagem dos contornos da imagem \n",
    "#cv2.RETR_EXTERNAL = conta apenas os contornos externos \n",
    "(objetos, lx) = cv2.findContours(\n",
    "    bordas.copy(), cv2.RETR_EXTERNAL, cv2.CHAIN_APPROX_SIMPLE) #A variável lx (lixo) recebe dados que não são utilizados\n",
    "\n",
    "print(img, \"Imagem em tons de cinza\", 0) \n",
    "print(suave, \"Suavizacao com Blur\", 0) \n",
    "print(bin, \"Binarizacao com Metodo Otsu\", 255) \n",
    "print(bordas, \"Detector de bordas Canny\", 255)\n",
    "\n",
    "temp = np.vstack([  \n",
    "    np.hstack([img, suave]),   \n",
    "    np.hstack([bin, bordas])   \n",
    "])  \n",
    "\n",
    "cv2.imshow(\"Quantidade de objetos: \"+str(len(objetos)), temp) \n",
    "cv2.waitKey(0)\n",
    "\n",
    "imgC2 = imgColorida.copy() \n",
    "cv2.imshow(\"Imagem Original\", imgColorida)\n",
    "\n",
    "cv2.drawContours(imgC2, objetos, -1, (255, 0, 0), 2) \n",
    "print(imgC2, str(len(objetos))+\" objetos encontrados!\") \n",
    "cv2.imshow(\"Resultado\", imgC2) \n",
    "cv2.waitKey(0) "
   ]
  },
  {
   "cell_type": "markdown",
   "id": "b0885108",
   "metadata": {},
   "source": [
    "> A função cv2.findContours() não foi mostrada anteriormente neste tutorial. Encorajamos o leitor a buscar compreender melhor a função na documentação da OpenCV. \n",
    "\n",
    "> Resumidamente ela busca na imagem contornos fechados e retorna um mapa que é um vetor contendo os objetos encontrados. Este mapa neste caso foi armazenado na variável ‘objetos’.\n",
    "\n",
    "> É por isso que usamos a função len(objetos) para contar quantos objetos foram encontrados. O terceiro argumento definido como -1 define que todos os contornos de ‘objetos’ serão desenhados. Mas podemos identificar um contorno especifico sendo ‘0’ para o primeiro objeto, ‘1’ para o segudo e assim por diante.Agora é preciso identificar qual é o lado do dado que esta virado para cima. Para isso precisaremos contar quantos pontos brancos existe na superfície do dado. É possível utilizar várias técnicas para encontrar a solução."
   ]
  },
  {
   "attachments": {
    "image.png": {
     "image/png": "[encoded data removed]"
    }
   },
   "cell_type": "markdown",
   "id": "695d6618",
   "metadata": {},
   "source": [
    "![image.png](attachment:image.png)"
   ]
  },
  {
   "cell_type": "code",
   "execution_count": null,
   "id": "2b7acdf7",
   "metadata": {},
   "outputs": [],
   "source": []
  }
 ],
 "metadata": {
  "kernelspec": {
   "display_name": "Python 3 (ipykernel)",
   "language": "python",
   "name": "python3"
  },
  "language_info": {
   "codemirror_mode": {
    "name": "ipython",
    "version": 3
   },
   "file_extension": ".py",
   "mimetype": "text/x-python",
   "name": "python",
   "nbconvert_exporter": "python",
   "pygments_lexer": "ipython3",
   "version": "3.9.12"
  }
 },
 "nbformat": 4,
 "nbformat_minor": 5
}
