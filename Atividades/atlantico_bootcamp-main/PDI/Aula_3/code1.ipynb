{
 "cells": [
  {
   "cell_type": "code",
   "execution_count": 2,
   "id": "f269c6d2",
   "metadata": {},
   "outputs": [],
   "source": [
    "from tensorflow import reshape, matmul, reduce_sum\n",
    "\n",
    "model = [[ 1. , 0., -1.]]\n",
    "\n",
    "letterK = [[1., 0., 1.],\n",
    "           [1., 1., 0.],\n",
    "           [1., 0., 1.]]\n",
    "letterX = [[1., 0., 1.],\n",
    "           [0., 1., 0.],\n",
    "           [1., 0., 1.]]"
   ]
  },
  {
   "cell_type": "code",
   "execution_count": 3,
   "id": "9cc6175d",
   "metadata": {},
   "outputs": [],
   "source": [
    "# Reshape model from a 1x3 to a 3x1 tensor\n",
    "model = reshape(model, (3,1))"
   ]
  },
  {
   "cell_type": "code",
   "execution_count": 4,
   "id": "3e6e6df4",
   "metadata": {},
   "outputs": [],
   "source": [
    "# Multiply letter K by model\n",
    "output1 = matmul(letterK, model)"
   ]
  },
  {
   "cell_type": "code",
   "execution_count": 6,
   "id": "fc23e52f",
   "metadata": {},
   "outputs": [
    {
     "name": "stdout",
     "output_type": "stream",
     "text": [
      "1.0\n",
      "0.0\n"
     ]
    }
   ],
   "source": [
    "# Sum over output and print prediction using the numpy method\n",
    "prediction1 = reduce_sum(output1)\n",
    "print(prediction1.numpy())\n",
    "\n",
    "# Multiply letter X by model\n",
    "output2 = matmul(letterX, model)\n",
    "\n",
    "# Sum over output and print prediction using the numpy method\n",
    "prediction2 = reduce_sum(output2)\n",
    "print(prediction2.numpy())"
   ]
  }
 ],
 "metadata": {
  "kernelspec": {
   "display_name": "Python 3 (ipykernel)",
   "language": "python",
   "name": "python3"
  },
  "language_info": {
   "codemirror_mode": {
    "name": "ipython",
    "version": 3
   },
   "file_extension": ".py",
   "mimetype": "text/x-python",
   "name": "python",
   "nbconvert_exporter": "python",
   "pygments_lexer": "ipython3",
   "version": "3.9.12"
  }
 },
 "nbformat": 4,
 "nbformat_minor": 5
}
