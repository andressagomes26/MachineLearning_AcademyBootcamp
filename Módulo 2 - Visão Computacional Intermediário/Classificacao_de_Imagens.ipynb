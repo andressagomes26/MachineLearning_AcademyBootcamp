{
 "cells": [
  {
   "cell_type": "code",
   "execution_count": null,
   "id": "89e5a7fc",
   "metadata": {},
   "outputs": [],
   "source": []
  },
  {
   "cell_type": "markdown",
   "id": "5bfc36c4",
   "metadata": {},
   "source": [
    "## Implementação de classificação de imagens\n",
    "\n",
    "**Classificação de Imagens**\n",
    "\n",
    "> Neste módulo é possível acompanhar a implementação de um processo de classificação de imagens utilizando técnicas clássicas de Processamento Digital de Imagens e treinar classificadores para predição dos atributos."
   ]
  },
  {
   "cell_type": "code",
   "execution_count": 1,
   "id": "b1a71d94",
   "metadata": {},
   "outputs": [],
   "source": [
    "### Módulos necessários\n",
    "import os\n",
    "import cv2\n",
    "import matplotlib.pyplot as plt\n",
    "import numpy as np\n",
    "import pandas as pd\n",
    "from random import shuffle\n",
    "from sklearn.model_selection import train_test_split\n",
    "from sklearn import metrics,svm\n",
    "from sklearn.metrics import classification_report\n",
    "from sklearn.ensemble import RandomForestClassifier\n",
    "from sklearn.neural_network import MLPClassifier\n",
    "from sklearn.neighbors import KNeighborsClassifier\n",
    "from sklearn.linear_model import SGDClassifier\n",
    "from sklearn.naive_bayes import GaussianNB\n",
    "from sklearn import tree\n",
    "from skimage.measure import regionprops\n",
    "from skimage.filters import threshold_otsu\n",
    "from sklearn.preprocessing import MaxAbsScaler"
   ]
  },
  {
   "attachments": {
    "image.png": {
     "image/png": "[encoded data removed]"
    }
   },
   "cell_type": "markdown",
   "id": "2f930595",
   "metadata": {},
   "source": [
    "- **O Problema**\n",
    "> Suponha que seja necessário identificação automática de uma figura geométrica por análise de imagens. As figuras que precisam ser identificadas estão definidas na Figura abaixo.\n",
    "\n",
    "![image.png](attachment:image.png)\n",
    "\n",
    "> Neste contexto, de forma automática, uma aplicação deve ser implementada de maneira que esta receba uma imagem e retorne o tipo de figura geométrica contida, com base no padrão definido neste dataset.\n"
   ]
  },
  {
   "cell_type": "markdown",
   "id": "63e105c9",
   "metadata": {},
   "source": [
    "- **Preparando o dataset**\n",
    "\n",
    "> Neste primeiro momento há necessidade de observar as imagens do dataset e organizá-las em uma estrutura de dados adequada para que seus atributos possam ser extraídos. há então a necessidade de carregar o conjunto de imagens via código. Abaixo segue um exemplo de uma função para carregar o conjunto de imagens e retornar estas estruturadas em lista e outra lista indicando classe de cada imagem."
   ]
  },
  {
   "cell_type": "code",
   "execution_count": 2,
   "id": "b43b3095",
   "metadata": {},
   "outputs": [],
   "source": [
    "def load_data(datadir, classes, img_size=100):\n",
    "    training_data = []\n",
    "    label = []\n",
    "    for classe in range(len(classes)):\n",
    "        path = os.path.join(datadir, classes[classe])\n",
    "        shufled_list  = list(os.listdir(path))\n",
    "        shuffle(shufled_list)\n",
    "        for img in shufled_list:\n",
    "            img_array = cv2.imread(os.path.join(path, img), cv2.IMREAD_GRAYSCALE)\n",
    "            img_array = cv2.resize(img_array, (img_size, img_size))\n",
    "            unique = np.unique(img_array)\n",
    "            if len(unique) == 1:\n",
    "                continue\n",
    "            training_data.append(img_array)\n",
    "            label.append(classe)\n",
    "    return training_data , label"
   ]
  },
  {
   "cell_type": "code",
   "execution_count": 3,
   "id": "cd87d9ed",
   "metadata": {},
   "outputs": [],
   "source": [
    "data , label = load_data('dataset/geometric',['circle','square','star','triangle'])"
   ]
  },
  {
   "cell_type": "markdown",
   "id": "94b27f06",
   "metadata": {},
   "source": [
    "- O código acima realiza a implementação de uma função que recebe 3 argumentos: o diretório que contem as pastas das imagens, uma lista de string que contém o nome das classes que devem ser reconhecidas e um parâmetro default que é o  tamanho da imagem que será utilizado em todo o processo. \n",
    "\n",
    "- São definidas duas listas vazias training_data e label. Em training_data serão armazenadas as imagens e em label serão definidos números que representam cada classe.Deste modo, é possível saber a classe da imagem que estiver na posição 5 da lista training_data observando o número contido da quinta posição da lista label.\n",
    "\n",
    "- Um loop for é realizado para iterar sobre as possíveis classes. Assim a variável classe,definida no loop, poderá assumir valores variando de  0 até 3, em que 0 representa classe 'circle' e 3 representa a classe 'triangle'. Na variável path é armazenada a string que contem o caminho para pasta de imagens da classe específica, conforme iteração do loop for e na estrutura shufled_list são contidas strings que são os caminhos de cada imagem da classe, já com um primeiro embaralhamento.\n",
    "O segundo loop for itera sobre os caminhos das imagens específicas e armazena estas em tom de cinza na variável img_array. A imagem é redimensionada, armazenada na lista training_data e variável classe é armazenada na lista label. Foi observado inconsistências neste dataset específico, em que há casos de imagens com um único tom de cinza. Estas são descartadas através da verificação junto a função unique da numpy auxiliada pelo comando if."
   ]
  },
  {
   "cell_type": "markdown",
   "id": "4c546bcc",
   "metadata": {},
   "source": [
    "- **Extração de atributos**\n",
    "> De posse das imagens estruturadas, agora vamos extrair informações destas imagens para que estes dados sirvam de atributos. Neste caso a função features_extraction é responsável por isso."
   ]
  },
  {
   "cell_type": "code",
   "execution_count": 4,
   "id": "a67acf21",
   "metadata": {},
   "outputs": [],
   "source": [
    "def get_contours_param(contour):\n",
    "    contour_area = contour[0].filled_area\n",
    "    contour_perimeter = contour[0].perimeter\n",
    "    contour_convex_area = contour[0].convex_area\n",
    "    diameter = contour[0].equivalent_diameter\n",
    "    return contour_area , contour_perimeter, contour_convex_area, diameter"
   ]
  },
  {
   "cell_type": "code",
   "execution_count": 5,
   "id": "95bd82a2",
   "metadata": {},
   "outputs": [],
   "source": [
    "def features_extraction(images):\n",
    "    features_list = []\n",
    "    for image in images:\n",
    "        thresh = threshold_otsu(image)\n",
    "        binary = np.array(image > thresh).astype(int)\n",
    "        white_pixel = np.where(binary > 0)\n",
    "        if len(white_pixel[0]) > 7000:\n",
    "            binary = abs(1-binary) # ajuste de imagens negativas\n",
    "        regions = regionprops(binary)\n",
    "        contour_area , contour_perimeter, contour_convex_area, diameter = get_contours_param(regions)\n",
    "        features_list.append([contour_area , contour_perimeter, contour_convex_area, diameter])\n",
    "    norm =  MaxAbsScaler()\n",
    "    norm.fit(features_list)\n",
    "    norm_features = norm.transform(features_list)\n",
    "    return norm_features\n",
    "\n",
    "features = features_extraction(data)"
   ]
  },
  {
   "cell_type": "markdown",
   "id": "78003bd1",
   "metadata": {},
   "source": [
    "- Nesta etapa, features_extraction recebe a lista de imagens que foi obtida em load_data. Nesta função é aplicada a limiarização de Otsu de forma iterativa com auxílio do loop for. Neste caso de imagens sintéticas, existe a possibilidade de o processo de limiarização de Otsu gerar imagens binarizadas, mas algumas sendo negativas. Assim é realizado a contagem de pixels brancos para garatir que estes componham o objeto e não o plano de fundo. Essa análise é específica para este dataset em particular. Essa lógica está implementada na analíse de white_pixels. Por isso, quando são contabilizados mais que 7000 pixels brancos, sugere-se que há caso de limiarização negativa.\n",
    "\n",
    "\n",
    "- O Método regionprops é utilizado para segmentar as regiões geométricas da imagem. Contexto, a função get_contours_param é implementada para extrair os atributos do contorno. Ative o modo DEBUG da sua IDE para poder observar outros atributos que podem ser extraídos.\n",
    "\n",
    "\n",
    "- Por fim, é realizada a normalização dos atributos para dimensionar cada atributo individualmente de modo que o valor absoluto máximo de cada um no conjunto de treinamento seja 1,0. A função MaxAbsScaler realiza isso."
   ]
  },
  {
   "cell_type": "markdown",
   "id": "aa9474d0",
   "metadata": {},
   "source": [
    "- **Treinamento e Teste dos Classificadores.**\n",
    "> A variável features possui as os atributos extraídos das imagens. Neste contexto, a função gen_classifiers é iamplementada para retornar testes em 7 classificadores: Random Forest, MLP, KNN, SGDC, SVM, Árvore de decisão e Naive Bayes."
   ]
  },
  {
   "cell_type": "code",
   "execution_count": 6,
   "id": "fdcf31d3",
   "metadata": {},
   "outputs": [],
   "source": [
    "def generate_svm_model(train_data,label_train_data,test_data):\n",
    "    clf = svm.SVC(kernel='linear')\n",
    "    clf.fit(train_data, label_train_data)\n",
    "    predicted = clf.predict(test_data)\n",
    "    return predicted\n",
    "def generate_SGDC_model(train_data,label_train_data,test_data):\n",
    "    clf = SGDClassifier(loss=\"hinge\", penalty=\"l2\", max_iter=200)\n",
    "    clf.fit(train_data, label_train_data)\n",
    "    predicted = clf.predict(test_data)\n",
    "    return predicted\n",
    "def generate_naive_bayes_model(train_data,label_train_data,test_data):\n",
    "    gnb = GaussianNB()\n",
    "    gnb.fit(train_data, label_train_data)\n",
    "    predicted = gnb.predict(test_data)\n",
    "    return predicted\n",
    "def generate_decision_tree_model(train_data,label_train_data,test_data):\n",
    "    clf = tree.DecisionTreeClassifier()\n",
    "    clf = clf.fit(train_data, label_train_data)\n",
    "    predicted = clf.predict(test_data)\n",
    "    return predicted\n",
    "def generate_random_forest_model(X_train, y_train,test_data):\n",
    "    rfc = RandomForestClassifier(criterion= 'entropy', max_depth= 8, max_features='auto', n_estimators=200)\n",
    "    rfc.fit(X_train,y_train)\n",
    "    predicted = rfc.predict(test_data)\n",
    "    return predicted\n",
    "def generate_MLP_model(X_train, y_train,test_data):\n",
    "    classifier = MLPClassifier(hidden_layer_sizes=(100,100,100), max_iter=300,activation = 'relu',solver='adam',random_state=1)\n",
    "    classifier.fit(X_train, y_train)\n",
    "    predicted = classifier.predict(test_data)\n",
    "    return predicted\n",
    "def generate_knn_model(train_data,label_train_data,test_data):\n",
    "    knn = KNeighborsClassifier()\n",
    "    knn.fit(train_data,label_train_data)\n",
    "    predicted = knn.predict(test_data)\n",
    "    return predicted"
   ]
  },
  {
   "cell_type": "code",
   "execution_count": 7,
   "id": "61779ac8",
   "metadata": {},
   "outputs": [],
   "source": [
    "def gen_classifiers(train_data,label_train_data,test_data):\n",
    "    return generate_knn_model(train_data,label_train_data,test_data),\\\n",
    "    generate_MLP_model(train_data,label_train_data,test_data),\\\n",
    "    generate_SGDC_model(train_data,label_train_data,test_data),\\\n",
    "    generate_svm_model(train_data,label_train_data,test_data),\\\n",
    "    generate_decision_tree_model(train_data,label_train_data,test_data),\\\n",
    "    generate_naive_bayes_model(train_data,label_train_data,test_data),\\\n",
    "    generate_random_forest_model(train_data,label_train_data,test_data),"
   ]
  },
  {
   "cell_type": "code",
   "execution_count": 8,
   "id": "f0702f87",
   "metadata": {},
   "outputs": [],
   "source": [
    "X_train,X_test,y_train,y_test = train_test_split(features,label,test_size=0.3)\n",
    "results = gen_classifiers(X_train, y_train,X_test)"
   ]
  },
  {
   "cell_type": "markdown",
   "id": "6aefc7de",
   "metadata": {},
   "source": [
    "- A função divide o conjunto de atributos e labels em conjuntos de treino e teste para garantirmos que o processo de treinamento seja realizado com dados distintos dos que vão ser testados por cada classificador.\n",
    "\n",
    "- Deste modo, a função gen_classifiers recebe os atributos de treinamento, as labels dos atributos de treinamento e os atribiutos de teste e retorna um array de valores que indicam os resultados dos testes de cada classificador. Cada classificador é inicializado com um objeto específico. Após a inicialização é realizado o comando fit para treinar o classificadorque recebe os atribiutos de treinamento e as labels dos atributos. Após o treinamento é realizado o comando predict para testar se o classificador realiza uma predição correta de atributos que não foram utilizados no conjunto de treinamento. A variável predicted é um vetor em que cada elemento do vetor é um valor que indica a classe a qual o atributo pertence. "
   ]
  },
  {
   "cell_type": "markdown",
   "id": "36d8cddd",
   "metadata": {},
   "source": [
    "- **Avaliação dos classificadores**\n",
    "> A biblioteca sklearn possui funções que auxiliam a medir quantitativamente o desempenho do classificador. A acurácia do classificador pode ser medida pela chamada da função seguinte:"
   ]
  },
  {
   "cell_type": "code",
   "execution_count": 9,
   "id": "37e401e7",
   "metadata": {},
   "outputs": [
    {
     "name": "stdout",
     "output_type": "stream",
     "text": [
      "Acc KNN: 0.9817518248175182\n",
      "Acc MLP: 0.9981751824817519\n",
      "Acc SGDC: 0.6386861313868614\n",
      "Acc svm: 0.6459854014598541\n",
      "Acc decision_tree: 0.9470802919708029\n",
      "Acc naive_bayes: 0.5218978102189781\n",
      "Acc random_forest: 0.9452554744525548\n"
     ]
    }
   ],
   "source": [
    "acc_knn = metrics.accuracy_score(y_test, results[0])\n",
    "acc_MLP = metrics.accuracy_score(y_test, results[1])\n",
    "acc_SGDC = metrics.accuracy_score(y_test, results[2])\n",
    "acc_svm = metrics.accuracy_score(y_test, results[3])\n",
    "acc_decision_tree = metrics.accuracy_score(y_test, results[4])\n",
    "acc_naive_bayes = metrics.accuracy_score(y_test, results[5])\n",
    "acc_random_forest = metrics.accuracy_score(y_test, results[6])\n",
    "\n",
    "print(\"Acc KNN: {}\".format(acc_knn))\n",
    "print(\"Acc MLP: {}\".format(acc_MLP))\n",
    "print(\"Acc SGDC: {}\".format(acc_SGDC))\n",
    "print(\"Acc svm: {}\".format(acc_svm))\n",
    "print(\"Acc decision_tree: {}\".format(acc_decision_tree))\n",
    "print(\"Acc naive_bayes: {}\".format(acc_naive_bayes))\n",
    "print(\"Acc random_forest: {}\".format(acc_random_forest))"
   ]
  },
  {
   "cell_type": "markdown",
   "id": "50c7296f",
   "metadata": {},
   "source": [
    "VP = Verdadeiro positivo - objeto pertence a classe A e foi classificado na classe A\n",
    "\n",
    "VN = Verdadeiro negativo - objeto não pertence a classe A e não foi classificado na classe A\n",
    "\n",
    "FP = Falso positivo - objeto não pertence a classe A e foi classificado na classe A\n",
    "\n",
    "FN = Falso negativo - objeto pertence a classe A e não foi classificado na classe A\n",
    "\n",
    "A sensibilidade/revocação/recall do classificador, por classe,  pode ser medida pela chamada da função seguinte:"
   ]
  },
  {
   "cell_type": "code",
   "execution_count": 18,
   "id": "b53a9025",
   "metadata": {},
   "outputs": [
    {
     "name": "stdout",
     "output_type": "stream",
     "text": [
      "recall KNN: [0.95238095 0.95652174 1.         1.        ]\n",
      "recall MLP: [1.         0.98913043 1.         1.        ]\n",
      "recall SGDC: [0.96825397 0.         1.         0.41714286]\n",
      "recall svm: [0.44444444 0.         0.79354839 1.        ]\n",
      "recall decision_tree: [0.95238095 0.88043478 0.97419355 0.95428571]\n",
      "recall naive_bayes: [0.23015873 0.30434783 0.49677419 0.86857143]\n",
      "recall random_forest: [0.91269841 0.79347826 1.         1.        ]\n"
     ]
    }
   ],
   "source": [
    "def recall(y_test, results):\n",
    "    return metrics.recall_score(y_test, results, average=None)\n",
    "\n",
    "print(\"recall KNN: {}\".format(recall(y_test, results[0])))\n",
    "print(\"recall MLP: {}\".format(recall(y_test, results[1])))\n",
    "print(\"recall SGDC: {}\".format(recall(y_test, results[2])))\n",
    "print(\"recall svm: {}\".format(recall(y_test, results[3])))\n",
    "print(\"recall decision_tree: {}\".format(recall(y_test, results[4])))\n",
    "print(\"recall naive_bayes: {}\".format(recall(y_test, results[5])))\n",
    "print(\"recall random_forest: {}\".format(recall(y_test, results[6])))"
   ]
  },
  {
   "cell_type": "code",
   "execution_count": 28,
   "id": "520155f9",
   "metadata": {},
   "outputs": [
    {
     "name": "stdout",
     "output_type": "stream",
     "text": [
      "Precision\n",
      "precision KNN: [0.96774194 0.93617021 1.         1.        ]\n",
      "precision MLP: [0.99212598 1.         1.         1.        ]\n",
      "precision SGDC: [0.65240642 0.         0.68584071 0.76041667]\n",
      "precision svm: [0.76712329 0.         1.         0.49715909]\n",
      "precision decision_tree: [0.9375     0.9        0.96794872 0.95977011]\n",
      "precision naive_bayes: [0.64444444 0.35       1.         0.43930636]\n",
      "precision random_forest: [0.97457627 0.92405063 1.         0.89285714]\n",
      "recall\n",
      "precision KNN: [0.95238095 0.95652174 1.         1.        ]\n",
      "precision MLP: [1.         0.98913043 1.         1.        ]\n",
      "precision SGDC: [0.96825397 0.         1.         0.41714286]\n",
      "precision svm: [0.44444444 0.         0.79354839 1.        ]\n",
      "precision decision_tree: [0.95238095 0.88043478 0.97419355 0.95428571]\n",
      "precision naive_bayes: [0.23015873 0.30434783 0.49677419 0.86857143]\n",
      "precision random_forest: [0.91269841 0.79347826 1.         1.        ]\n",
      "f1_score\n",
      "precision KNN: [0.96       0.94623656 1.         1.        ]\n",
      "precision MLP: [0.99604743 0.99453552 1.         1.        ]\n",
      "precision SGDC: [0.77955272 0.         0.81364829 0.53874539]\n",
      "precision svm: [0.56281407 0.         0.88489209 0.66413662]\n",
      "precision decision_tree: [0.94488189 0.89010989 0.97106109 0.95702006]\n",
      "precision naive_bayes: [0.33918129 0.3255814  0.6637931  0.58349328]\n",
      "precision random_forest: [0.94262295 0.85380117 1.         0.94339623]\n"
     ]
    },
    {
     "name": "stderr",
     "output_type": "stream",
     "text": [
      "C:\\Users\\andressa.moreira\\Anaconda3\\lib\\site-packages\\sklearn\\metrics\\_classification.py:1318: UndefinedMetricWarning: Precision is ill-defined and being set to 0.0 in labels with no predicted samples. Use `zero_division` parameter to control this behavior.\n",
      "  _warn_prf(average, modifier, msg_start, len(result))\n"
     ]
    }
   ],
   "source": [
    "modelo = [\"KNN\", \"MLP\", \"SGDC\", \"svm\", \"decision_tree\", \"naive_bayes\", \"random_forest\"]\n",
    "\n",
    "def precision(y_test, results):\n",
    "    return metrics.precision_score(y_test, results, average=None)\n",
    "\n",
    "def recall(y_test, results):\n",
    "    return metrics.recall_score(y_test, results, average=None)\n",
    "\n",
    "def f1_score(y_test, results):\n",
    "    return metrics.f1_score(y_test, results, average=None)\n",
    "\n",
    "def printScore(modelo, avali):\n",
    "    for i in range(0, len(modelo)):\n",
    "        print(\"precision {}: {}\".format(modelo[i], avali(y_test, results[i])))\n",
    "\n",
    "print(\"Precision\")\n",
    "printScore(modelo, precision)\n",
    "\n",
    "print(\"recall\")\n",
    "printScore(modelo, recall)\n",
    "\n",
    "print(\"f1_score\")\n",
    "printScore(modelo, f1_score)\n"
   ]
  },
  {
   "cell_type": "code",
   "execution_count": 12,
   "id": "4f7dfb2f",
   "metadata": {},
   "outputs": [
    {
     "name": "stdout",
     "output_type": "stream",
     "text": [
      "[0.96       0.94623656 1.         1.        ]\n"
     ]
    }
   ],
   "source": [
    "f1_score =  metrics.f1_score(y_test,results[0],average=None)\n",
    "print(f1_score)"
   ]
  }
 ],
 "metadata": {
  "kernelspec": {
   "display_name": "Python 3 (ipykernel)",
   "language": "python",
   "name": "python3"
  },
  "language_info": {
   "codemirror_mode": {
    "name": "ipython",
    "version": 3
   },
   "file_extension": ".py",
   "mimetype": "text/x-python",
   "name": "python",
   "nbconvert_exporter": "python",
   "pygments_lexer": "ipython3",
   "version": "3.9.12"
  }
 },
 "nbformat": 4,
 "nbformat_minor": 5
}
