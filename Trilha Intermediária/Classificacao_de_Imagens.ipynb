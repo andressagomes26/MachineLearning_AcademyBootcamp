{
 "cells": [
  {
   "cell_type": "code",
   "execution_count": 1,
   "id": "89e5a7fc",
   "metadata": {},
   "outputs": [
    {
     "name": "stdout",
     "output_type": "stream",
     "text": [
      "Requirement already satisfied: imutils in c:\\users\\andressa.moreira\\anaconda3\\lib\\site-packages (0.5.4)\n"
     ]
    }
   ],
   "source": [
    "!pip install imutils"
   ]
  },
  {
   "cell_type": "markdown",
   "id": "5bfc36c4",
   "metadata": {},
   "source": [
    "## Classificação de imagens de tempo\n",
    "\n",
    "**Classificação de Imagens**\n",
    "\n",
    "> Classificação de imagens de tempo utilizando técnicas clássicas de Processamento Digital de Imagens e treinar classificadores para predição dos atributos."
   ]
  },
  {
   "cell_type": "code",
   "execution_count": 2,
   "id": "b1a71d94",
   "metadata": {},
   "outputs": [],
   "source": [
    "### Módulos necessáriosimport os\n",
    "import cv2\n",
    "import matplotlib.pyplot as plt\n",
    "import numpy as np\n",
    "import pandas as pd\n",
    "import imutils\n",
    "import seaborn as sns\n",
    "import matplotlib.pyplot as plt\n",
    "from random import shuffle\n",
    "from sklearn.model_selection import train_test_split\n",
    "from sklearn import metrics,svm\n",
    "from sklearn.metrics import classification_report\n",
    "from sklearn.ensemble import RandomForestClassifier\n",
    "from sklearn.neural_network import MLPClassifier\n",
    "from sklearn.neighbors import KNeighborsClassifier\n",
    "from sklearn.linear_model import SGDClassifier\n",
    "from sklearn.naive_bayes import GaussianNB\n",
    "from sklearn import tree\n",
    "from skimage.measure import regionprops\n",
    "from skimage.filters import threshold_otsu\n",
    "from sklearn.preprocessing import MaxAbsScaler\n",
    "from skimage import io, img_as_ubyte\n",
    "from skimage.transform import rotate, AffineTransform, warp\n",
    "from skimage.util import random_noise\n",
    "import random\n",
    "import os\n",
    "import cv2\n",
    "import matplotlib.pyplot as plt\n",
    "import numpy as np\n",
    "import pandas as pd\n",
    "import imutils\n",
    "from random import shuffle\n",
    "from sklearn.model_selection import train_test_split\n",
    "from sklearn import metrics,svm\n",
    "from sklearn.metrics import classification_report\n",
    "from sklearn.ensemble import RandomForestClassifier\n",
    "from sklearn.neural_network import MLPClassifier\n",
    "from sklearn.neighbors import KNeighborsClassifier\n",
    "from sklearn.linear_model import SGDClassifier\n",
    "from sklearn.naive_bayes import GaussianNB\n",
    "from sklearn import tree\n",
    "from skimage.measure import regionprops\n",
    "from skimage.filters import threshold_otsu\n",
    "from sklearn.preprocessing import MaxAbsScaler"
   ]
  },
  {
   "cell_type": "markdown",
   "id": "63e105c9",
   "metadata": {},
   "source": [
    "- **Preparando o dataset**\n",
    "\n",
    "> Neste primeiro momento há necessidade de observar as imagens do dataset e organizá-las em uma estrutura de dados adequada para que seus atributos possam ser extraídos. há então a necessidade de carregar o conjunto de imagens via código."
   ]
  },
  {
   "cell_type": "code",
   "execution_count": 3,
   "id": "b43b3095",
   "metadata": {},
   "outputs": [],
   "source": [
    "def load_data(datadir, classes, img_size=100):\n",
    "    training_data = []\n",
    "    label = []\n",
    "    for classe in range(len(classes)):\n",
    "        path = os.path.join(datadir, classes[classe])\n",
    "        shufled_list  = list(os.listdir(path))\n",
    "        shuffle(shufled_list)\n",
    "        for img in shufled_list:\n",
    "            img_array = cv2.imread(os.path.join(path, img))\n",
    "            img_array = cv2.resize(img_array, (img_size, img_size))\n",
    "            #img_array = cv2.resize(img_array, (img_size, img_size)).flatten()\n",
    "            \n",
    "            training_data.append(img_array)\n",
    "            label.append(classe)\n",
    "            \n",
    "    return training_data, label"
   ]
  },
  {
   "cell_type": "code",
   "execution_count": 4,
   "id": "cd87d9ed",
   "metadata": {},
   "outputs": [],
   "source": [
    "data, label = load_data('dataset/tempo', ['cloudy','rain','shine','sunrise'])"
   ]
  },
  {
   "cell_type": "markdown",
   "id": "30f77515",
   "metadata": {},
   "source": [
    "- O código acima realiza a implementação de uma função que recebe 3 argumentos: o diretório que contem as pastas das imagens, uma lista de string que contém o nome das classes que devem ser reconhecidas e um parâmetro default que é o  tamanho da imagem que será utilizado em todo o processo. \n",
    "\n",
    "\n",
    "- São definidas duas listas vazias training_data e label. Em ***training_data*** serão armazenadas as imagens e em ***label*** serão definidos números que representam cada classe. Deste modo, é possível saber a classe da imagem que estiver na posição 5 da lista training_data observando o número contido da quinta posição da lista label.\n",
    "\n",
    "- Um loop for é realizado para iterar sobre as possíveis classes. Assim a variável classe, definida no loop, poderá assumir valores variando de  0 até 3, em que 0 representa classe **'cloudy'** e 3 representa a classe **'sunrise'**. Na variável path é armazenada a string que contem o caminho para pasta de imagens da classe específica, conforme iteração do loop for e na estrutura shufled_list são contidas strings que são os caminhos de cada imagem da classe, já com um primeiro embaralhamento."
   ]
  },
  {
   "cell_type": "markdown",
   "id": "e68ce66a",
   "metadata": {},
   "source": [
    "### Extração de atributos"
   ]
  },
  {
   "cell_type": "markdown",
   "id": "94b27f06",
   "metadata": {},
   "source": [
    "> Definir dois métodos para obter uma imagem de entrada e convertê-la em um vetor de recursos ou uma lista de números que quantificam o conteúdo de uma imagem:\n",
    "\n",
    "\n"
   ]
  },
  {
   "cell_type": "code",
   "execution_count": 37,
   "id": "8f24d2db",
   "metadata": {},
   "outputs": [],
   "source": [
    "def image_to_feature_vector(image, size=(32, 32)):\n",
    "    return cv2.resize(image, size).flatten()"
   ]
  },
  {
   "cell_type": "markdown",
   "id": "aee92eec",
   "metadata": {},
   "source": [
    "> A função aceita uma imagem de entrada e constrói um histograma de cores para caracterizar a distribuição de cores da imagem.\n",
    "\n"
   ]
  },
  {
   "cell_type": "code",
   "execution_count": null,
   "id": "2b4a23b0",
   "metadata": {},
   "outputs": [],
   "source": []
  },
  {
   "cell_type": "code",
   "execution_count": 38,
   "id": "4c4a7203",
   "metadata": {},
   "outputs": [],
   "source": [
    "from skimage import exposure\n",
    "def extract_color_histogram(image):\n",
    "    imgSuavizada = cv2.GaussianBlur(image, (13,13), 3)\n",
    "    imgDetalhes = 3 * cv2.subtract(image, imgSuavizada)\n",
    "    imgRealcada = cv2.add(image, imgDetalhes)\n",
    "    # realizar a equalização do histograma\n",
    "    image_eq = exposure.equalize_hist(imgRealcada)\n",
    "    # determinar a media do valor dos pixels que ocorrem na imagem  equalizada\n",
    "    img_mean_eq = np.mean(image_eq)*255\n",
    "    return image_eq.flatten()\n",
    "\n",
    "def extract_color_histogram2(image):\n",
    "    imgSuavizada = cv2.GaussianBlur(image, (13,13), 3)\n",
    "    imgDetalhes = 3 * cv2.subtract(image, imgSuavizada)\n",
    "    imgRealcada = cv2.add(image, imgDetalhes)\n",
    "    #hsv = cv2.cvtColor(imgRealcada, cv2.COLOR_BGR2HSV)\n",
    "    \n",
    "    hsv = cv2.cvtColor(imgRealcada, cv2.COLOR_BGR2HSV)\n",
    "    #hist = cv2.calcHist([hsv], [0, 1, 2], None, (8, 8, 8), [0, 180, 0, 256, 0, 256])\n",
    "    hist = cv2.calcHist([hsv], [0, 1, 2], None, (8, 8, 8), [ 0 , 256 , 0 , 256 , 0 , 256 ])\n",
    "    #print(hist)\n",
    "    hist_norm = cv2.normalize(hist, hist)\n",
    "    #print(hist_norm)\n",
    "    return hist_norm.flatten()"
   ]
  },
  {
   "cell_type": "code",
   "execution_count": 5,
   "id": "fdcdeff6",
   "metadata": {},
   "outputs": [],
   "source": [
    "# média\tda\tcor\tdos pixels\n",
    "def mean_normal(image):\n",
    "    return cv2.mean(image)\n",
    "\n",
    "# média\tda\tcor\tdos pixels\n",
    "def mean_realce(image):\n",
    "    imgSuavizada = cv2.GaussianBlur(image, (13,13), 3)\n",
    "    imgDetalhes = 3 * cv2.subtract(image, imgSuavizada)\n",
    "    imgRealcada = cv2.add(image, imgDetalhes)\n",
    "    return cv2.mean(imgRealcada)\n",
    "\n",
    "def extract_histogram(image):\n",
    "    '''imgSuavizada = cv2.GaussianBlur(image, (13,13), 3)\n",
    "    imgDetalhes = 3 * cv2.subtract(image, imgSuavizada)\n",
    "    imgRealcada = cv2.add(image, imgDetalhes)\n",
    "    #hsv = cv2.cvtColor(imgRealcada, cv2.COLOR_BGR2HSV)'''\n",
    "    \n",
    "    hsv = cv2.cvtColor(image, cv2.COLOR_BGR2HSV)\n",
    "    hist = cv2.calcHist([hsv], [0, 1, 2], None, (8, 8, 8), [ 0 , 256 , 0 , 256 , 0 , 256 ])\n",
    "    hist_norm = cv2.normalize(hist, hist)\n",
    "    return hist_norm.flatten()\n",
    "\n",
    "def extract_histogram_realce(image):\n",
    "    imgSuavizada = cv2.GaussianBlur(image, (13,13), 3)\n",
    "    imgDetalhes = 3 * cv2.subtract(image, imgSuavizada)\n",
    "    imgRealcada = cv2.add(image, imgDetalhes)\n",
    "    \n",
    "    hsv = cv2.cvtColor(imgRealcada, cv2.COLOR_BGR2HSV)\n",
    "    hist = cv2.calcHist([hsv], [0, 1, 2], None, (8, 8, 8), [ 0 , 256 , 0 , 256 , 0 , 256 ])\n",
    "    hist_norm = cv2.normalize(hist, hist)\n",
    "    return hist_norm.flatten()"
   ]
  },
  {
   "cell_type": "code",
   "execution_count": 8,
   "id": "0c118e3c",
   "metadata": {},
   "outputs": [
    {
     "data": {
      "text/plain": [
       "512"
      ]
     },
     "execution_count": 8,
     "metadata": {},
     "output_type": "execute_result"
    }
   ],
   "source": [
    "len(features[0])"
   ]
  },
  {
   "cell_type": "code",
   "execution_count": 6,
   "id": "b235f5cd",
   "metadata": {},
   "outputs": [],
   "source": [
    "features = []\n",
    "def features_extraction(images):\n",
    "    features_list = []\n",
    "    for image in images:\n",
    "        #print(image.shape)\n",
    "        hist = extract_histogram_realce(image)\n",
    "        features.append(hist)\n",
    "    return features\n",
    "\n",
    "features = features_extraction(data)"
   ]
  },
  {
   "cell_type": "markdown",
   "id": "aa9474d0",
   "metadata": {},
   "source": [
    "- **Treinamento e Teste dos Classificadores.**\n",
    "> A variável features possui as os atributos extraídos das imagens. Neste contexto, a função gen_classifiers é iamplementada para retornar testes em 7 classificadores: Random Forest, MLP, KNN, SGDC, SVM, Árvore de decisão e Naive Bayes."
   ]
  },
  {
   "cell_type": "code",
   "execution_count": 41,
   "id": "fdcf31d3",
   "metadata": {},
   "outputs": [],
   "source": [
    "def generate_svm_model(train_data,label_train_data,test_data):\n",
    "    clf = svm.SVC(kernel='linear')\n",
    "    clf.fit(train_data, label_train_data)\n",
    "    predicted = clf.predict(test_data)\n",
    "    return predicted\n",
    "def generate_SGDC_model(train_data,label_train_data,test_data):\n",
    "    clf = SGDClassifier(loss=\"hinge\", penalty=\"l2\", max_iter=200)\n",
    "    clf.fit(train_data, label_train_data)\n",
    "    predicted = clf.predict(test_data)\n",
    "    return predicted\n",
    "def generate_naive_bayes_model(train_data,label_train_data,test_data):\n",
    "    gnb = GaussianNB()\n",
    "    gnb.fit(train_data, label_train_data)\n",
    "    predicted = gnb.predict(test_data)\n",
    "    return predicted\n",
    "def generate_decision_tree_model(train_data,label_train_data,test_data):\n",
    "    clf = tree.DecisionTreeClassifier()\n",
    "    clf = clf.fit(train_data, label_train_data)\n",
    "    predicted = clf.predict(test_data)\n",
    "    return predicted\n",
    "def generate_random_forest_model(X_train, y_train,test_data):\n",
    "    rfc = RandomForestClassifier(criterion= 'entropy', max_depth= 8, max_features='auto', n_estimators=200)\n",
    "    rfc.fit(X_train,y_train)\n",
    "    predicted = rfc.predict(test_data)\n",
    "    return predicted\n",
    "def generate_MLP_model(X_train, y_train,test_data):\n",
    "    classifier = MLPClassifier(hidden_layer_sizes=(100,100,100), max_iter=300,activation = 'relu',solver='adam',random_state=1)\n",
    "    classifier.fit(X_train, y_train)\n",
    "    predicted = classifier.predict(test_data)\n",
    "    return predicted\n",
    "def generate_knn_model(train_data,label_train_data,test_data):\n",
    "    knn = KNeighborsClassifier()\n",
    "    knn.fit(train_data,label_train_data)\n",
    "    predicted = knn.predict(test_data)\n",
    "    return predicted"
   ]
  },
  {
   "cell_type": "code",
   "execution_count": 42,
   "id": "61779ac8",
   "metadata": {},
   "outputs": [],
   "source": [
    "def gen_classifiers(train_data,label_train_data,test_data):\n",
    "    return generate_knn_model(train_data,label_train_data,test_data),\\\n",
    "    generate_MLP_model(train_data,label_train_data,test_data),\\\n",
    "    generate_SGDC_model(train_data,label_train_data,test_data),\\\n",
    "    generate_svm_model(train_data,label_train_data,test_data),\\\n",
    "    generate_decision_tree_model(train_data,label_train_data,test_data),\\\n",
    "    generate_naive_bayes_model(train_data,label_train_data,test_data),\\\n",
    "    generate_random_forest_model(train_data,label_train_data,test_data),"
   ]
  },
  {
   "cell_type": "code",
   "execution_count": 43,
   "id": "f0702f87",
   "metadata": {},
   "outputs": [],
   "source": [
    "X_train,X_test,y_train,y_test = train_test_split(features,label,test_size=0.3)\n",
    "results = gen_classifiers(X_train, y_train,X_test)"
   ]
  },
  {
   "cell_type": "markdown",
   "id": "6aefc7de",
   "metadata": {},
   "source": [
    "- A função divide o conjunto de atributos e labels em conjuntos de treino e teste para garantirmos que o processo de treinamento seja realizado com dados distintos dos que vão ser testados por cada classificador.\n",
    "\n",
    "- Deste modo, a função gen_classifiers recebe os atributos de treinamento, as labels dos atributos de treinamento e os atribiutos de teste e retorna um array de valores que indicam os resultados dos testes de cada classificador. Cada classificador é inicializado com um objeto específico. Após a inicialização é realizado o comando fit para treinar o classificadorque recebe os atribiutos de treinamento e as labels dos atributos. Após o treinamento é realizado o comando predict para testar se o classificador realiza uma predição correta de atributos que não foram utilizados no conjunto de treinamento. A variável predicted é um vetor em que cada elemento do vetor é um valor que indica a classe a qual o atributo pertence. "
   ]
  },
  {
   "cell_type": "markdown",
   "id": "36d8cddd",
   "metadata": {},
   "source": [
    "- **Avaliação dos classificadores**\n",
    "> A biblioteca sklearn possui funções que auxiliam a medir quantitativamente o desempenho do classificador. A acurácia do classificador pode ser medida pela chamada da função seguinte:"
   ]
  },
  {
   "cell_type": "code",
   "execution_count": 44,
   "id": "37e401e7",
   "metadata": {},
   "outputs": [
    {
     "name": "stdout",
     "output_type": "stream",
     "text": [
      "Acc KNN: 0.828\n",
      "Acc MLP: 0.861\n",
      "Acc SGDC: 0.831\n",
      "Acc svm: 0.849\n",
      "Acc decision_tree: 0.774\n",
      "Acc naive_bayes: 0.754\n",
      "Acc random_forest: 0.875\n"
     ]
    }
   ],
   "source": [
    "acc_knn = metrics.accuracy_score(y_test, results[0])\n",
    "acc_MLP = metrics.accuracy_score(y_test, results[1])\n",
    "acc_SGDC = metrics.accuracy_score(y_test, results[2])\n",
    "acc_svm = metrics.accuracy_score(y_test, results[3])\n",
    "acc_decision_tree = metrics.accuracy_score(y_test, results[4])\n",
    "acc_naive_bayes = metrics.accuracy_score(y_test, results[5])\n",
    "acc_random_forest = metrics.accuracy_score(y_test, results[6])\n",
    "\n",
    "print(\"Acc KNN: {:.3f}\".format(acc_knn))\n",
    "print(\"Acc MLP: {:.3f}\".format(acc_MLP))\n",
    "print(\"Acc SGDC: {:.3f}\".format(acc_SGDC))\n",
    "print(\"Acc svm: {:.3f}\".format(acc_svm))\n",
    "print(\"Acc decision_tree: {:.3f}\".format(acc_decision_tree))\n",
    "print(\"Acc naive_bayes: {:.3f}\".format(acc_naive_bayes))\n",
    "print(\"Acc random_forest: {:.3f}\".format(acc_random_forest))"
   ]
  },
  {
   "cell_type": "markdown",
   "id": "50c7296f",
   "metadata": {},
   "source": [
    "VP = Verdadeiro positivo - objeto pertence a classe A e foi classificado na classe A\n",
    "\n",
    "VN = Verdadeiro negativo - objeto não pertence a classe A e não foi classificado na classe A\n",
    "\n",
    "FP = Falso positivo - objeto não pertence a classe A e foi classificado na classe A\n",
    "\n",
    "FN = Falso negativo - objeto pertence a classe A e não foi classificado na classe A\n",
    "\n",
    "A sensibilidade/revocação/recall do classificador, por classe,  pode ser medida pela chamada da função seguinte:"
   ]
  },
  {
   "cell_type": "code",
   "execution_count": 45,
   "id": "520155f9",
   "metadata": {},
   "outputs": [
    {
     "name": "stdout",
     "output_type": "stream",
     "text": [
      "Precision\n",
      "precision KNN: [0.7375     0.64473684 0.89156627 0.98979592]\n",
      "precision MLP: [0.81707317 0.67567568 0.94936709 0.96078431]\n",
      "precision SGDC: [0.7311828  0.61842105 0.95774648 1.        ]\n",
      "precision SVM: [0.7721519  0.67692308 0.88636364 0.98095238]\n",
      "precision Decision_tree: [0.75       0.6025641  0.78378378 0.92079208]\n",
      "precision Naive_bayes: [0.58139535 0.65116279 0.98       0.88695652]\n",
      "precision Random_forest: [0.80681818 0.9        0.87356322 0.91964286]\n",
      "recall\n",
      "precision KNN: [0.68604651 0.75384615 0.90243902 0.93269231]\n",
      "precision MLP: [0.77906977 0.76923077 0.91463415 0.94230769]\n",
      "precision SGDC: [0.79069767 0.72307692 0.82926829 0.93269231]\n",
      "precision SVM: [0.70930233 0.67692308 0.95121951 0.99038462]\n",
      "precision Decision_tree: [0.73255814 0.72307692 0.70731707 0.89423077]\n",
      "precision Naive_bayes: [0.87209302 0.43076923 0.59756098 0.98076923]\n",
      "precision Random_forest: [0.8255814  0.69230769 0.92682927 0.99038462]\n",
      "f1_score\n",
      "precision KNN: [0.71084337 0.69503546 0.8969697  0.96039604]\n",
      "precision MLP: [0.79761905 0.71942446 0.93167702 0.95145631]\n",
      "precision SGDC: [0.75977654 0.66666667 0.88888889 0.96517413]\n",
      "precision SVM: [0.73939394 0.67692308 0.91764706 0.98564593]\n",
      "precision Decision_tree: [0.74117647 0.65734266 0.74358974 0.90731707]\n",
      "precision Naive_bayes: [0.69767442 0.51851852 0.74242424 0.93150685]\n",
      "precision Random_forest: [0.81609195 0.7826087  0.89940828 0.9537037 ]\n"
     ]
    }
   ],
   "source": [
    "modelo = [\"KNN\", \"MLP\", \"SGDC\", \"SVM\", \"Decision_tree\", \"Naive_bayes\", \"Random_forest\"]\n",
    "\n",
    "def precision(y_test, results):\n",
    "    return metrics.precision_score(y_test, results, average=None)\n",
    "def recall(y_test, results):\n",
    "    return metrics.recall_score(y_test, results, average=None)\n",
    "def f1_score(y_test, results):\n",
    "    return metrics.f1_score(y_test, results, average=None)\n",
    "\n",
    "def printScore(modelo, avali):\n",
    "    for i in range(0, len(modelo)):\n",
    "        print(\"precision {}: {}\".format(modelo[i], avali(y_test, results[i])))\n",
    "\n",
    "print(\"Precision\")\n",
    "printScore(modelo, precision)\n",
    "print(\"recall\")\n",
    "printScore(modelo, recall)\n",
    "print(\"f1_score\")\n",
    "printScore(modelo, f1_score)\n"
   ]
  },
  {
   "cell_type": "code",
   "execution_count": 46,
   "id": "e382bc9e",
   "metadata": {},
   "outputs": [],
   "source": [
    "def get_confusion_matrix(y_true, y_pred, modelo):\n",
    "    labels = ['cloudy','rain','shine','sunrise']\n",
    "    cm = metrics.confusion_matrix(y_true, y_pred)\n",
    "    sns.heatmap(cm, annot=True, fmt='g', cmap='Blues').set(title=modelo, ylabel='True Label', xlabel='Predicted Label')"
   ]
  },
  {
   "cell_type": "code",
   "execution_count": 47,
   "id": "d91a1319",
   "metadata": {},
   "outputs": [
    {
     "data": {
      "image/png": "[encoded data removed]",
      "text/plain": [
       "<Figure size 432x288 with 2 Axes>"
      ]
     },
     "metadata": {
      "needs_background": "light"
     },
     "output_type": "display_data"
    }
   ],
   "source": [
    "get_confusion_matrix(y_test, results[5], modelo[5])"
   ]
  },
  {
   "cell_type": "code",
   "execution_count": 48,
   "id": "9b22216e",
   "metadata": {},
   "outputs": [
    {
     "data": {
      "image/png": "[encoded data removed]",
      "text/plain": [
       "<Figure size 432x288 with 2 Axes>"
      ]
     },
     "metadata": {
      "needs_background": "light"
     },
     "output_type": "display_data"
    }
   ],
   "source": [
    "get_confusion_matrix(y_test, results[1], modelo[1])"
   ]
  }
 ],
 "metadata": {
  "kernelspec": {
   "display_name": "Python 3 (ipykernel)",
   "language": "python",
   "name": "python3"
  },
  "language_info": {
   "codemirror_mode": {
    "name": "ipython",
    "version": 3
   },
   "file_extension": ".py",
   "mimetype": "text/x-python",
   "name": "python",
   "nbconvert_exporter": "python",
   "pygments_lexer": "ipython3",
   "version": "3.9.12"
  }
 },
 "nbformat": 4,
 "nbformat_minor": 5
}
